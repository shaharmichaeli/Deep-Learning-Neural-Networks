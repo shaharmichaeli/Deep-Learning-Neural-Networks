{
  "nbformat": 4,
  "nbformat_minor": 0,
  "metadata": {
    "colab": {
      "name": "Homework 1 - Shahar Michaeli.ipynb",
      "provenance": [],
      "collapsed_sections": []
    },
    "kernelspec": {
      "name": "python3",
      "display_name": "Python 3"
    },
    "language_info": {
      "name": "python"
    }
  },
  "cells": [
    {
      "cell_type": "markdown",
      "metadata": {
        "id": "up997AXE8NNH"
      },
      "source": [
        "# Shahar Michaeli - Homework 1\n"
      ]
    },
    {
      "cell_type": "markdown",
      "metadata": {
        "id": "4HBx_f6-8RyF"
      },
      "source": [
        "# Imports"
      ]
    },
    {
      "cell_type": "code",
      "metadata": {
        "id": "gjAuDWq3fUri"
      },
      "source": [
        "import torch\n",
        "from torch import nn\n",
        "import numpy as np"
      ],
      "execution_count": 1,
      "outputs": []
    },
    {
      "cell_type": "markdown",
      "metadata": {
        "id": "V6WVvfdI8Uqz"
      },
      "source": [
        "# Required Functions"
      ]
    },
    {
      "cell_type": "code",
      "metadata": {
        "id": "ypK0kvZRfxwt"
      },
      "source": [
        "class BTU(torch.nn.Module):\n",
        "  def __init__(self, T=0.2):\n",
        "      super(BTU, self).__init__()\n",
        "      self.T = T\n",
        "\n",
        "#                make sure input is tensor / make sure returned value is tensor\n",
        "#                               V               V\n",
        "  def forward(self, input: torch.Tensor) -> torch.Tensor:\n",
        "      return 1 / (1 + torch.exp(-input/self.T))"
      ],
      "execution_count": 2,
      "outputs": []
    },
    {
      "cell_type": "code",
      "metadata": {
        "id": "lnnpTjoJf2ar"
      },
      "source": [
        "class Linear2(torch.nn.Module):\n",
        "  def __init__(self, in_features: int, out_features: int, bias: bool = True, device=None, dtype=None) -> None:\n",
        "    factory_kwargs = {'device': device, 'dtype': dtype}\n",
        "    super(Linear2, self).__init__()\n",
        "    self.in_features = in_features\n",
        "    self.out_features = out_features\n",
        "    self.weight = nn.Parameter(torch.empty((in_features, out_features), **factory_kwargs))\n",
        "    if bias:\n",
        "        self.bias = nn.Parameter(torch.empty(out_features, **factory_kwargs))\n",
        "    else:\n",
        "        self.register_parameter('bias', None)\n",
        "    self.reset_parameters()\n",
        "\n",
        "  def reset_parameters(self) -> None:\n",
        "    self.weight = nn.Parameter(torch.rand([self.in_features, self.out_features]))\n",
        "    if self.bias is not None:\n",
        "      self.bias = nn.Parameter(torch.rand([self.out_features]))\n",
        "\n",
        "  def set_weights(self, w, b):\n",
        "    weight = torch.tensor(w)\n",
        "\n",
        "    # print(tuple(weight.shape)==(self.in_features,self.out_features), len(b)==self.out_features)\n",
        "    if weight.shape != (self.in_features,self.out_features) or len(b) != self.out_features:\n",
        "      raise Exception('Weight shape not equals to (in_features,out_features) or Bias shape is not equal to out_features shape!')\n",
        "\n",
        "    self.weight = nn.Parameter(weight)\n",
        "    self.bias = nn.Parameter(torch.tensor(b))\n",
        "    \n",
        "  def forward(self, input: torch.Tensor) -> torch.Tensor:\n",
        "    return torch.matmul(input, self.weight) + self.bias # * is elementwise\n",
        "\n",
        "  def extra_repr(self) -> str:\n",
        "    return 'in_features={}, out_features={}, bias={}'.format(\n",
        "        self.in_features, self.out_features, self.bias is not None\n",
        "      )\n",
        "  "
      ],
      "execution_count": 34,
      "outputs": []
    },
    {
      "cell_type": "code",
      "metadata": {
        "id": "1dyt2xjKeeq_"
      },
      "source": [
        "class Network3(nn.Module):\n",
        "  def __init__(self, k, in_dim, out_dim,bypass=True):\n",
        "    super().__init__()\n",
        "    self.bypass = bypass\n",
        "    self.hidden = Linear2(in_dim, k)\n",
        "    if self.bypass:\n",
        "      self.output = Linear2(k + in_dim, out_dim)\n",
        "    else:\n",
        "      self.output = Linear2(k, out_dim)\n",
        "    self.BTU = BTU(Temp)\n",
        "  \n",
        "  def set_weights(self, w, b, layer):\n",
        "    if layer == 'output':\n",
        "      self.output.set_weights(w, b)\n",
        "    elif layer == 'hidden':\n",
        "      self.hidden.set_weights(w,b)\n",
        "\n",
        "  def forward(self, input):\n",
        "    z1 = self.hidden(input)\n",
        "    y1 = self.BTU(z1)\n",
        "\n",
        "    if self.bypass:\n",
        "      y1_concat = torch.cat((input, y1), 1)\n",
        "      z2 = self.output(y1_concat)\n",
        "\n",
        "    else:\n",
        "      z2 = self.output(y1)\n",
        "    return self.BTU(z2)\n",
        "\n"
      ],
      "execution_count": 4,
      "outputs": []
    },
    {
      "cell_type": "code",
      "metadata": {
        "id": "4rlO6Idtqs6n"
      },
      "source": [
        "def Loss(model,x , t, print_deltas=False):\n",
        "  squared_deltas = torch.square(model(x) - t) ## SSE\n",
        "  if print_deltas:\n",
        "    print(squared_deltas)\n",
        "  return torch.sum(squared_deltas)"
      ],
      "execution_count": 5,
      "outputs": []
    },
    {
      "cell_type": "markdown",
      "metadata": {
        "id": "tff98onT8YNP"
      },
      "source": [
        "# Data"
      ]
    },
    {
      "cell_type": "code",
      "metadata": {
        "id": "JyNQzVomfQxa"
      },
      "source": [
        "Temp = 0.001  # for sigmoid\n",
        "x = torch.tensor([[0, 0], [0, 1], [1, 0], [1, 1]], dtype=torch.float32)\n",
        "t = torch.tensor([[0.], [1.], [1.], [0.]], dtype=torch.float32)"
      ],
      "execution_count": 9,
      "outputs": []
    },
    {
      "cell_type": "markdown",
      "metadata": {
        "id": "cuTjY00nj4cC"
      },
      "source": [
        "# K = 4 , n = 2\n",
        "![image](https://user-images.githubusercontent.com/49268387/137798058-83577ff7-05a4-4eef-81cd-03e70f7abf19.png)\n",
        "\n"
      ]
    },
    {
      "cell_type": "code",
      "metadata": {
        "id": "pUdQLgxgj6Pv",
        "colab": {
          "base_uri": "https://localhost:8080/"
        },
        "outputId": "6ca00c51-6c99-435e-c2c4-c6010c6ec7e1"
      },
      "source": [
        "model_k4_n2 = Network3(k = 4,in_dim = 2, out_dim=1, bypass=False)\n",
        "model_k4_n2.set_weights([[-1.],[1.],[1.],[-1]],[-0.5],'output')\n",
        "model_k4_n2.set_weights([[-1.,-1.,1.,1.],[-1.,1.,-1.,1.]],[0.5,-0.5,-0.5,-1.5],'hidden')\n"
      ],
      "execution_count": 36,
      "outputs": [
        {
          "output_type": "stream",
          "name": "stdout",
          "text": [
            "True True\n",
            "True True\n"
          ]
        }
      ]
    },
    {
      "cell_type": "code",
      "metadata": {
        "colab": {
          "base_uri": "https://localhost:8080/"
        },
        "id": "gw2GklA-ko3g",
        "outputId": "9f47745b-ebe0-44b9-b18f-e2029b51ec4f"
      },
      "source": [
        "print(model_k4_n2(x))"
      ],
      "execution_count": 37,
      "outputs": [
        {
          "output_type": "stream",
          "name": "stdout",
          "text": [
            "tensor([[0.],\n",
            "        [1.],\n",
            "        [1.],\n",
            "        [0.]], grad_fn=<MulBackward0>)\n"
          ]
        }
      ]
    },
    {
      "cell_type": "code",
      "metadata": {
        "colab": {
          "base_uri": "https://localhost:8080/"
        },
        "id": "31R7P096oS4I",
        "outputId": "1218686e-5643-4b5e-c931-684433f54ce5"
      },
      "source": [
        "Loss(model_k4_n2,x,t,True)"
      ],
      "execution_count": 38,
      "outputs": [
        {
          "output_type": "stream",
          "name": "stdout",
          "text": [
            "tensor([[0.],\n",
            "        [0.],\n",
            "        [0.],\n",
            "        [0.]], grad_fn=<PowBackward0>)\n"
          ]
        },
        {
          "output_type": "execute_result",
          "data": {
            "text/plain": [
              "tensor(0., grad_fn=<SumBackward0>)"
            ]
          },
          "metadata": {},
          "execution_count": 38
        }
      ]
    },
    {
      "cell_type": "markdown",
      "metadata": {
        "id": "3v6hCcChrZa7"
      },
      "source": [
        "# K = 2 , n = 2\n",
        "![image](https://user-images.githubusercontent.com/49268387/137798430-8e3d4dcf-029d-4865-b3a4-78b57cf871b8.png)\n"
      ]
    },
    {
      "cell_type": "code",
      "metadata": {
        "id": "Gyy0CYaWrGqG",
        "colab": {
          "base_uri": "https://localhost:8080/"
        },
        "outputId": "07fce5b2-9fd6-43a8-efcd-a605224c4876"
      },
      "source": [
        "model_k2_n2 = Network3(k = 2,in_dim = 2, out_dim=1, bypass=False)\n",
        "model_k2_n2.set_weights([[1.],[1.]],[-0.5],'output')\n",
        "model_k2_n2.set_weights([[-1.,1.],[1.,-1.]],[-0.5,-0.5],'hidden')"
      ],
      "execution_count": 39,
      "outputs": [
        {
          "output_type": "stream",
          "name": "stdout",
          "text": [
            "True True\n",
            "True True\n"
          ]
        }
      ]
    },
    {
      "cell_type": "code",
      "metadata": {
        "colab": {
          "base_uri": "https://localhost:8080/"
        },
        "id": "wAlq6FY5z3S9",
        "outputId": "69811376-2128-451b-d7d7-94491a6cc1b8"
      },
      "source": [
        "print(model_k2_n2(x))"
      ],
      "execution_count": 40,
      "outputs": [
        {
          "output_type": "stream",
          "name": "stdout",
          "text": [
            "tensor([[0.],\n",
            "        [1.],\n",
            "        [1.],\n",
            "        [0.]], grad_fn=<MulBackward0>)\n"
          ]
        }
      ]
    },
    {
      "cell_type": "code",
      "metadata": {
        "colab": {
          "base_uri": "https://localhost:8080/"
        },
        "id": "E0Q58ITFz48P",
        "outputId": "fb52f66c-6aba-460f-a08f-c580583daded"
      },
      "source": [
        "Loss(model_k2_n2,x,t,True)"
      ],
      "execution_count": 41,
      "outputs": [
        {
          "output_type": "stream",
          "name": "stdout",
          "text": [
            "tensor([[0.],\n",
            "        [0.],\n",
            "        [0.],\n",
            "        [0.]], grad_fn=<PowBackward0>)\n"
          ]
        },
        {
          "output_type": "execute_result",
          "data": {
            "text/plain": [
              "tensor(0., grad_fn=<SumBackward0>)"
            ]
          },
          "metadata": {},
          "execution_count": 41
        }
      ]
    },
    {
      "cell_type": "markdown",
      "metadata": {
        "id": "j_Rv79bt45D6"
      },
      "source": [
        "# K = 1 , n = 2\n",
        "![image](https://user-images.githubusercontent.com/49268387/137798854-137ede0b-40c1-42e8-a387-0f0af111673b.png)\n"
      ]
    },
    {
      "cell_type": "code",
      "metadata": {
        "id": "ysnOmInO468C",
        "colab": {
          "base_uri": "https://localhost:8080/"
        },
        "outputId": "1d34b37b-6dcc-4670-ee7a-7c60beb54263"
      },
      "source": [
        "model_k1_n2 = Network3(k = 1,in_dim = 2, out_dim=1, bypass=True)\n",
        "model_k1_n2.set_weights([[1.],[1.]],[-1.5],'hidden')\n",
        "model_k1_n2.set_weights([[1.],[1.],[-2.]],[-0.5],'output')\n"
      ],
      "execution_count": 42,
      "outputs": [
        {
          "output_type": "stream",
          "name": "stdout",
          "text": [
            "True True\n",
            "True True\n"
          ]
        }
      ]
    },
    {
      "cell_type": "code",
      "metadata": {
        "colab": {
          "base_uri": "https://localhost:8080/"
        },
        "id": "bTika7KI5KKg",
        "outputId": "649ee4fc-1540-47a6-c842-1d8bceec3a3d"
      },
      "source": [
        "print(model_k1_n2(x))"
      ],
      "execution_count": 43,
      "outputs": [
        {
          "output_type": "stream",
          "name": "stdout",
          "text": [
            "tensor([[0.],\n",
            "        [1.],\n",
            "        [1.],\n",
            "        [0.]], grad_fn=<MulBackward0>)\n"
          ]
        }
      ]
    },
    {
      "cell_type": "code",
      "metadata": {
        "colab": {
          "base_uri": "https://localhost:8080/"
        },
        "id": "v6LnIjfl5K1Q",
        "outputId": "f23f2189-2327-40a5-a6a2-34857572f66c"
      },
      "source": [
        "Loss(model_k1_n2,x,t,True)"
      ],
      "execution_count": 44,
      "outputs": [
        {
          "output_type": "stream",
          "name": "stdout",
          "text": [
            "tensor([[0.],\n",
            "        [0.],\n",
            "        [0.],\n",
            "        [0.]], grad_fn=<PowBackward0>)\n"
          ]
        },
        {
          "output_type": "execute_result",
          "data": {
            "text/plain": [
              "tensor(0., grad_fn=<SumBackward0>)"
            ]
          },
          "metadata": {},
          "execution_count": 44
        }
      ]
    },
    {
      "cell_type": "code",
      "metadata": {
        "id": "TBmMZ3H1Abd_",
        "colab": {
          "base_uri": "https://localhost:8080/"
        },
        "outputId": "20b432fd-ae05-4b23-cdb9-37cf5c3a603e"
      },
      "source": [
        "%%shell\n",
        "jupyter nbconvert --to html /content/Homework_1_Shahar_Michaeli.ipynb\n"
      ],
      "execution_count": 45,
      "outputs": [
        {
          "output_type": "stream",
          "name": "stdout",
          "text": [
            "[NbConvertApp] Converting notebook /content/Homework_1_Shahar_Michaeli.ipynb to html\n",
            "[NbConvertApp] Writing 308521 bytes to /content/Homework_1_Shahar_Michaeli.html\n"
          ]
        },
        {
          "output_type": "execute_result",
          "data": {
            "text/plain": [
              ""
            ]
          },
          "metadata": {},
          "execution_count": 45
        }
      ]
    },
    {
      "cell_type": "code",
      "metadata": {
        "id": "AMH0p12zAdIz"
      },
      "source": [
        ""
      ],
      "execution_count": null,
      "outputs": []
    }
  ]
}