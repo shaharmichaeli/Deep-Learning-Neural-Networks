{
  "nbformat": 4,
  "nbformat_minor": 0,
  "metadata": {
    "colab": {
      "name": "Homework_4_ShaharMichaeli.ipynb",
      "provenance": [],
      "collapsed_sections": [
        "KRJhGax9EuzJ",
        "0EqRUxRSI8H6",
        "FsHL-wy6ycaM",
        "4TcqaFli9Xjt",
        "VtBTIZ1p9Y12",
        "gV8w8XaAO1QW"
      ]
    },
    "kernelspec": {
      "name": "python3",
      "display_name": "Python 3"
    },
    "language_info": {
      "name": "python"
    },
    "accelerator": "GPU",
    "widgets": {
      "application/vnd.jupyter.widget-state+json": {
        "d985676fa1dc4dbdbfd636adbefe7f9f": {
          "model_module": "@jupyter-widgets/controls",
          "model_name": "HBoxModel",
          "model_module_version": "1.5.0",
          "state": {
            "_view_name": "HBoxView",
            "_dom_classes": [],
            "_model_name": "HBoxModel",
            "_view_module": "@jupyter-widgets/controls",
            "_model_module_version": "1.5.0",
            "_view_count": null,
            "_view_module_version": "1.5.0",
            "box_style": "",
            "layout": "IPY_MODEL_ae320072e218437fbfd58c1edc839c95",
            "_model_module": "@jupyter-widgets/controls",
            "children": [
              "IPY_MODEL_9c718f7ba9be4693815a20767ba28bdd",
              "IPY_MODEL_04873b8591b3474aaab2a6d80a9ecc2f",
              "IPY_MODEL_cd8be466b3c242d99ca62e172b333ffc"
            ]
          }
        },
        "ae320072e218437fbfd58c1edc839c95": {
          "model_module": "@jupyter-widgets/base",
          "model_name": "LayoutModel",
          "model_module_version": "1.2.0",
          "state": {
            "_view_name": "LayoutView",
            "grid_template_rows": null,
            "right": null,
            "justify_content": null,
            "_view_module": "@jupyter-widgets/base",
            "overflow": null,
            "_model_module_version": "1.2.0",
            "_view_count": null,
            "flex_flow": null,
            "width": null,
            "min_width": null,
            "border": null,
            "align_items": null,
            "bottom": null,
            "_model_module": "@jupyter-widgets/base",
            "top": null,
            "grid_column": null,
            "overflow_y": null,
            "overflow_x": null,
            "grid_auto_flow": null,
            "grid_area": null,
            "grid_template_columns": null,
            "flex": null,
            "_model_name": "LayoutModel",
            "justify_items": null,
            "grid_row": null,
            "max_height": null,
            "align_content": null,
            "visibility": null,
            "align_self": null,
            "height": null,
            "min_height": null,
            "padding": null,
            "grid_auto_rows": null,
            "grid_gap": null,
            "max_width": null,
            "order": null,
            "_view_module_version": "1.2.0",
            "grid_template_areas": null,
            "object_position": null,
            "object_fit": null,
            "grid_auto_columns": null,
            "margin": null,
            "display": null,
            "left": null
          }
        },
        "9c718f7ba9be4693815a20767ba28bdd": {
          "model_module": "@jupyter-widgets/controls",
          "model_name": "HTMLModel",
          "model_module_version": "1.5.0",
          "state": {
            "_view_name": "HTMLView",
            "style": "IPY_MODEL_faa7f0ec052f4b1c85fdcefb99c1cefe",
            "_dom_classes": [],
            "description": "",
            "_model_name": "HTMLModel",
            "placeholder": "​",
            "_view_module": "@jupyter-widgets/controls",
            "_model_module_version": "1.5.0",
            "value": "",
            "_view_count": null,
            "_view_module_version": "1.5.0",
            "description_tooltip": null,
            "_model_module": "@jupyter-widgets/controls",
            "layout": "IPY_MODEL_d69afe47e89d4398b199c166d3ecbe2a"
          }
        },
        "04873b8591b3474aaab2a6d80a9ecc2f": {
          "model_module": "@jupyter-widgets/controls",
          "model_name": "FloatProgressModel",
          "model_module_version": "1.5.0",
          "state": {
            "_view_name": "ProgressView",
            "style": "IPY_MODEL_4838fb2b6abb427bbfa67e82a05c2e5a",
            "_dom_classes": [],
            "description": "",
            "_model_name": "FloatProgressModel",
            "bar_style": "success",
            "max": 9912422,
            "_view_module": "@jupyter-widgets/controls",
            "_model_module_version": "1.5.0",
            "value": 9912422,
            "_view_count": null,
            "_view_module_version": "1.5.0",
            "orientation": "horizontal",
            "min": 0,
            "description_tooltip": null,
            "_model_module": "@jupyter-widgets/controls",
            "layout": "IPY_MODEL_ed019e7893b84c11be6bd8e82b0b664d"
          }
        },
        "cd8be466b3c242d99ca62e172b333ffc": {
          "model_module": "@jupyter-widgets/controls",
          "model_name": "HTMLModel",
          "model_module_version": "1.5.0",
          "state": {
            "_view_name": "HTMLView",
            "style": "IPY_MODEL_2410dd85c95140b1b3069a6049499214",
            "_dom_classes": [],
            "description": "",
            "_model_name": "HTMLModel",
            "placeholder": "​",
            "_view_module": "@jupyter-widgets/controls",
            "_model_module_version": "1.5.0",
            "value": " 9913344/? [00:00&lt;00:00, 32037233.49it/s]",
            "_view_count": null,
            "_view_module_version": "1.5.0",
            "description_tooltip": null,
            "_model_module": "@jupyter-widgets/controls",
            "layout": "IPY_MODEL_17608e3a556a418095ee9133c7404933"
          }
        },
        "faa7f0ec052f4b1c85fdcefb99c1cefe": {
          "model_module": "@jupyter-widgets/controls",
          "model_name": "DescriptionStyleModel",
          "model_module_version": "1.5.0",
          "state": {
            "_view_name": "StyleView",
            "_model_name": "DescriptionStyleModel",
            "description_width": "",
            "_view_module": "@jupyter-widgets/base",
            "_model_module_version": "1.5.0",
            "_view_count": null,
            "_view_module_version": "1.2.0",
            "_model_module": "@jupyter-widgets/controls"
          }
        },
        "d69afe47e89d4398b199c166d3ecbe2a": {
          "model_module": "@jupyter-widgets/base",
          "model_name": "LayoutModel",
          "model_module_version": "1.2.0",
          "state": {
            "_view_name": "LayoutView",
            "grid_template_rows": null,
            "right": null,
            "justify_content": null,
            "_view_module": "@jupyter-widgets/base",
            "overflow": null,
            "_model_module_version": "1.2.0",
            "_view_count": null,
            "flex_flow": null,
            "width": null,
            "min_width": null,
            "border": null,
            "align_items": null,
            "bottom": null,
            "_model_module": "@jupyter-widgets/base",
            "top": null,
            "grid_column": null,
            "overflow_y": null,
            "overflow_x": null,
            "grid_auto_flow": null,
            "grid_area": null,
            "grid_template_columns": null,
            "flex": null,
            "_model_name": "LayoutModel",
            "justify_items": null,
            "grid_row": null,
            "max_height": null,
            "align_content": null,
            "visibility": null,
            "align_self": null,
            "height": null,
            "min_height": null,
            "padding": null,
            "grid_auto_rows": null,
            "grid_gap": null,
            "max_width": null,
            "order": null,
            "_view_module_version": "1.2.0",
            "grid_template_areas": null,
            "object_position": null,
            "object_fit": null,
            "grid_auto_columns": null,
            "margin": null,
            "display": null,
            "left": null
          }
        },
        "4838fb2b6abb427bbfa67e82a05c2e5a": {
          "model_module": "@jupyter-widgets/controls",
          "model_name": "ProgressStyleModel",
          "model_module_version": "1.5.0",
          "state": {
            "_view_name": "StyleView",
            "_model_name": "ProgressStyleModel",
            "description_width": "",
            "_view_module": "@jupyter-widgets/base",
            "_model_module_version": "1.5.0",
            "_view_count": null,
            "_view_module_version": "1.2.0",
            "bar_color": null,
            "_model_module": "@jupyter-widgets/controls"
          }
        },
        "ed019e7893b84c11be6bd8e82b0b664d": {
          "model_module": "@jupyter-widgets/base",
          "model_name": "LayoutModel",
          "model_module_version": "1.2.0",
          "state": {
            "_view_name": "LayoutView",
            "grid_template_rows": null,
            "right": null,
            "justify_content": null,
            "_view_module": "@jupyter-widgets/base",
            "overflow": null,
            "_model_module_version": "1.2.0",
            "_view_count": null,
            "flex_flow": null,
            "width": null,
            "min_width": null,
            "border": null,
            "align_items": null,
            "bottom": null,
            "_model_module": "@jupyter-widgets/base",
            "top": null,
            "grid_column": null,
            "overflow_y": null,
            "overflow_x": null,
            "grid_auto_flow": null,
            "grid_area": null,
            "grid_template_columns": null,
            "flex": null,
            "_model_name": "LayoutModel",
            "justify_items": null,
            "grid_row": null,
            "max_height": null,
            "align_content": null,
            "visibility": null,
            "align_self": null,
            "height": null,
            "min_height": null,
            "padding": null,
            "grid_auto_rows": null,
            "grid_gap": null,
            "max_width": null,
            "order": null,
            "_view_module_version": "1.2.0",
            "grid_template_areas": null,
            "object_position": null,
            "object_fit": null,
            "grid_auto_columns": null,
            "margin": null,
            "display": null,
            "left": null
          }
        },
        "2410dd85c95140b1b3069a6049499214": {
          "model_module": "@jupyter-widgets/controls",
          "model_name": "DescriptionStyleModel",
          "model_module_version": "1.5.0",
          "state": {
            "_view_name": "StyleView",
            "_model_name": "DescriptionStyleModel",
            "description_width": "",
            "_view_module": "@jupyter-widgets/base",
            "_model_module_version": "1.5.0",
            "_view_count": null,
            "_view_module_version": "1.2.0",
            "_model_module": "@jupyter-widgets/controls"
          }
        },
        "17608e3a556a418095ee9133c7404933": {
          "model_module": "@jupyter-widgets/base",
          "model_name": "LayoutModel",
          "model_module_version": "1.2.0",
          "state": {
            "_view_name": "LayoutView",
            "grid_template_rows": null,
            "right": null,
            "justify_content": null,
            "_view_module": "@jupyter-widgets/base",
            "overflow": null,
            "_model_module_version": "1.2.0",
            "_view_count": null,
            "flex_flow": null,
            "width": null,
            "min_width": null,
            "border": null,
            "align_items": null,
            "bottom": null,
            "_model_module": "@jupyter-widgets/base",
            "top": null,
            "grid_column": null,
            "overflow_y": null,
            "overflow_x": null,
            "grid_auto_flow": null,
            "grid_area": null,
            "grid_template_columns": null,
            "flex": null,
            "_model_name": "LayoutModel",
            "justify_items": null,
            "grid_row": null,
            "max_height": null,
            "align_content": null,
            "visibility": null,
            "align_self": null,
            "height": null,
            "min_height": null,
            "padding": null,
            "grid_auto_rows": null,
            "grid_gap": null,
            "max_width": null,
            "order": null,
            "_view_module_version": "1.2.0",
            "grid_template_areas": null,
            "object_position": null,
            "object_fit": null,
            "grid_auto_columns": null,
            "margin": null,
            "display": null,
            "left": null
          }
        },
        "93bc9b0674e145d48742bffecc229b7b": {
          "model_module": "@jupyter-widgets/controls",
          "model_name": "HBoxModel",
          "model_module_version": "1.5.0",
          "state": {
            "_view_name": "HBoxView",
            "_dom_classes": [],
            "_model_name": "HBoxModel",
            "_view_module": "@jupyter-widgets/controls",
            "_model_module_version": "1.5.0",
            "_view_count": null,
            "_view_module_version": "1.5.0",
            "box_style": "",
            "layout": "IPY_MODEL_9cd82845a9634693a7c61ce12365a684",
            "_model_module": "@jupyter-widgets/controls",
            "children": [
              "IPY_MODEL_45c0ba22da7048daacc7ab653aab9376",
              "IPY_MODEL_f196c42bc4ee4a95adec8f2f1e36483f",
              "IPY_MODEL_2cf7f434232a4e42b95907e7cfa3b358"
            ]
          }
        },
        "9cd82845a9634693a7c61ce12365a684": {
          "model_module": "@jupyter-widgets/base",
          "model_name": "LayoutModel",
          "model_module_version": "1.2.0",
          "state": {
            "_view_name": "LayoutView",
            "grid_template_rows": null,
            "right": null,
            "justify_content": null,
            "_view_module": "@jupyter-widgets/base",
            "overflow": null,
            "_model_module_version": "1.2.0",
            "_view_count": null,
            "flex_flow": null,
            "width": null,
            "min_width": null,
            "border": null,
            "align_items": null,
            "bottom": null,
            "_model_module": "@jupyter-widgets/base",
            "top": null,
            "grid_column": null,
            "overflow_y": null,
            "overflow_x": null,
            "grid_auto_flow": null,
            "grid_area": null,
            "grid_template_columns": null,
            "flex": null,
            "_model_name": "LayoutModel",
            "justify_items": null,
            "grid_row": null,
            "max_height": null,
            "align_content": null,
            "visibility": null,
            "align_self": null,
            "height": null,
            "min_height": null,
            "padding": null,
            "grid_auto_rows": null,
            "grid_gap": null,
            "max_width": null,
            "order": null,
            "_view_module_version": "1.2.0",
            "grid_template_areas": null,
            "object_position": null,
            "object_fit": null,
            "grid_auto_columns": null,
            "margin": null,
            "display": null,
            "left": null
          }
        },
        "45c0ba22da7048daacc7ab653aab9376": {
          "model_module": "@jupyter-widgets/controls",
          "model_name": "HTMLModel",
          "model_module_version": "1.5.0",
          "state": {
            "_view_name": "HTMLView",
            "style": "IPY_MODEL_418c186b98ca424fac29d7d16bacd012",
            "_dom_classes": [],
            "description": "",
            "_model_name": "HTMLModel",
            "placeholder": "​",
            "_view_module": "@jupyter-widgets/controls",
            "_model_module_version": "1.5.0",
            "value": "",
            "_view_count": null,
            "_view_module_version": "1.5.0",
            "description_tooltip": null,
            "_model_module": "@jupyter-widgets/controls",
            "layout": "IPY_MODEL_58d80db4ab504e3ba55f53cee44bceac"
          }
        },
        "f196c42bc4ee4a95adec8f2f1e36483f": {
          "model_module": "@jupyter-widgets/controls",
          "model_name": "FloatProgressModel",
          "model_module_version": "1.5.0",
          "state": {
            "_view_name": "ProgressView",
            "style": "IPY_MODEL_b9b04a86815d44c3955c6222a541e5cf",
            "_dom_classes": [],
            "description": "",
            "_model_name": "FloatProgressModel",
            "bar_style": "success",
            "max": 28881,
            "_view_module": "@jupyter-widgets/controls",
            "_model_module_version": "1.5.0",
            "value": 28881,
            "_view_count": null,
            "_view_module_version": "1.5.0",
            "orientation": "horizontal",
            "min": 0,
            "description_tooltip": null,
            "_model_module": "@jupyter-widgets/controls",
            "layout": "IPY_MODEL_398d384589ea46f0aac990b2ef9ecfac"
          }
        },
        "2cf7f434232a4e42b95907e7cfa3b358": {
          "model_module": "@jupyter-widgets/controls",
          "model_name": "HTMLModel",
          "model_module_version": "1.5.0",
          "state": {
            "_view_name": "HTMLView",
            "style": "IPY_MODEL_c1160a5f8e154ff6aaf492228664d4af",
            "_dom_classes": [],
            "description": "",
            "_model_name": "HTMLModel",
            "placeholder": "​",
            "_view_module": "@jupyter-widgets/controls",
            "_model_module_version": "1.5.0",
            "value": " 29696/? [00:00&lt;00:00, 772016.48it/s]",
            "_view_count": null,
            "_view_module_version": "1.5.0",
            "description_tooltip": null,
            "_model_module": "@jupyter-widgets/controls",
            "layout": "IPY_MODEL_d837d64edd9148cb9d05f8d6396adc78"
          }
        },
        "418c186b98ca424fac29d7d16bacd012": {
          "model_module": "@jupyter-widgets/controls",
          "model_name": "DescriptionStyleModel",
          "model_module_version": "1.5.0",
          "state": {
            "_view_name": "StyleView",
            "_model_name": "DescriptionStyleModel",
            "description_width": "",
            "_view_module": "@jupyter-widgets/base",
            "_model_module_version": "1.5.0",
            "_view_count": null,
            "_view_module_version": "1.2.0",
            "_model_module": "@jupyter-widgets/controls"
          }
        },
        "58d80db4ab504e3ba55f53cee44bceac": {
          "model_module": "@jupyter-widgets/base",
          "model_name": "LayoutModel",
          "model_module_version": "1.2.0",
          "state": {
            "_view_name": "LayoutView",
            "grid_template_rows": null,
            "right": null,
            "justify_content": null,
            "_view_module": "@jupyter-widgets/base",
            "overflow": null,
            "_model_module_version": "1.2.0",
            "_view_count": null,
            "flex_flow": null,
            "width": null,
            "min_width": null,
            "border": null,
            "align_items": null,
            "bottom": null,
            "_model_module": "@jupyter-widgets/base",
            "top": null,
            "grid_column": null,
            "overflow_y": null,
            "overflow_x": null,
            "grid_auto_flow": null,
            "grid_area": null,
            "grid_template_columns": null,
            "flex": null,
            "_model_name": "LayoutModel",
            "justify_items": null,
            "grid_row": null,
            "max_height": null,
            "align_content": null,
            "visibility": null,
            "align_self": null,
            "height": null,
            "min_height": null,
            "padding": null,
            "grid_auto_rows": null,
            "grid_gap": null,
            "max_width": null,
            "order": null,
            "_view_module_version": "1.2.0",
            "grid_template_areas": null,
            "object_position": null,
            "object_fit": null,
            "grid_auto_columns": null,
            "margin": null,
            "display": null,
            "left": null
          }
        },
        "b9b04a86815d44c3955c6222a541e5cf": {
          "model_module": "@jupyter-widgets/controls",
          "model_name": "ProgressStyleModel",
          "model_module_version": "1.5.0",
          "state": {
            "_view_name": "StyleView",
            "_model_name": "ProgressStyleModel",
            "description_width": "",
            "_view_module": "@jupyter-widgets/base",
            "_model_module_version": "1.5.0",
            "_view_count": null,
            "_view_module_version": "1.2.0",
            "bar_color": null,
            "_model_module": "@jupyter-widgets/controls"
          }
        },
        "398d384589ea46f0aac990b2ef9ecfac": {
          "model_module": "@jupyter-widgets/base",
          "model_name": "LayoutModel",
          "model_module_version": "1.2.0",
          "state": {
            "_view_name": "LayoutView",
            "grid_template_rows": null,
            "right": null,
            "justify_content": null,
            "_view_module": "@jupyter-widgets/base",
            "overflow": null,
            "_model_module_version": "1.2.0",
            "_view_count": null,
            "flex_flow": null,
            "width": null,
            "min_width": null,
            "border": null,
            "align_items": null,
            "bottom": null,
            "_model_module": "@jupyter-widgets/base",
            "top": null,
            "grid_column": null,
            "overflow_y": null,
            "overflow_x": null,
            "grid_auto_flow": null,
            "grid_area": null,
            "grid_template_columns": null,
            "flex": null,
            "_model_name": "LayoutModel",
            "justify_items": null,
            "grid_row": null,
            "max_height": null,
            "align_content": null,
            "visibility": null,
            "align_self": null,
            "height": null,
            "min_height": null,
            "padding": null,
            "grid_auto_rows": null,
            "grid_gap": null,
            "max_width": null,
            "order": null,
            "_view_module_version": "1.2.0",
            "grid_template_areas": null,
            "object_position": null,
            "object_fit": null,
            "grid_auto_columns": null,
            "margin": null,
            "display": null,
            "left": null
          }
        },
        "c1160a5f8e154ff6aaf492228664d4af": {
          "model_module": "@jupyter-widgets/controls",
          "model_name": "DescriptionStyleModel",
          "model_module_version": "1.5.0",
          "state": {
            "_view_name": "StyleView",
            "_model_name": "DescriptionStyleModel",
            "description_width": "",
            "_view_module": "@jupyter-widgets/base",
            "_model_module_version": "1.5.0",
            "_view_count": null,
            "_view_module_version": "1.2.0",
            "_model_module": "@jupyter-widgets/controls"
          }
        },
        "d837d64edd9148cb9d05f8d6396adc78": {
          "model_module": "@jupyter-widgets/base",
          "model_name": "LayoutModel",
          "model_module_version": "1.2.0",
          "state": {
            "_view_name": "LayoutView",
            "grid_template_rows": null,
            "right": null,
            "justify_content": null,
            "_view_module": "@jupyter-widgets/base",
            "overflow": null,
            "_model_module_version": "1.2.0",
            "_view_count": null,
            "flex_flow": null,
            "width": null,
            "min_width": null,
            "border": null,
            "align_items": null,
            "bottom": null,
            "_model_module": "@jupyter-widgets/base",
            "top": null,
            "grid_column": null,
            "overflow_y": null,
            "overflow_x": null,
            "grid_auto_flow": null,
            "grid_area": null,
            "grid_template_columns": null,
            "flex": null,
            "_model_name": "LayoutModel",
            "justify_items": null,
            "grid_row": null,
            "max_height": null,
            "align_content": null,
            "visibility": null,
            "align_self": null,
            "height": null,
            "min_height": null,
            "padding": null,
            "grid_auto_rows": null,
            "grid_gap": null,
            "max_width": null,
            "order": null,
            "_view_module_version": "1.2.0",
            "grid_template_areas": null,
            "object_position": null,
            "object_fit": null,
            "grid_auto_columns": null,
            "margin": null,
            "display": null,
            "left": null
          }
        },
        "473c75a165c240f6ab502b6661fecaaa": {
          "model_module": "@jupyter-widgets/controls",
          "model_name": "HBoxModel",
          "model_module_version": "1.5.0",
          "state": {
            "_view_name": "HBoxView",
            "_dom_classes": [],
            "_model_name": "HBoxModel",
            "_view_module": "@jupyter-widgets/controls",
            "_model_module_version": "1.5.0",
            "_view_count": null,
            "_view_module_version": "1.5.0",
            "box_style": "",
            "layout": "IPY_MODEL_8cd185642255415abd47adaa72a25c29",
            "_model_module": "@jupyter-widgets/controls",
            "children": [
              "IPY_MODEL_515bbe99960b4f8392e81a03fcd57383",
              "IPY_MODEL_28d8de6b022441568f0576389b71b0e2",
              "IPY_MODEL_824d99d2a4de4b1aa741efcd4c97fb62"
            ]
          }
        },
        "8cd185642255415abd47adaa72a25c29": {
          "model_module": "@jupyter-widgets/base",
          "model_name": "LayoutModel",
          "model_module_version": "1.2.0",
          "state": {
            "_view_name": "LayoutView",
            "grid_template_rows": null,
            "right": null,
            "justify_content": null,
            "_view_module": "@jupyter-widgets/base",
            "overflow": null,
            "_model_module_version": "1.2.0",
            "_view_count": null,
            "flex_flow": null,
            "width": null,
            "min_width": null,
            "border": null,
            "align_items": null,
            "bottom": null,
            "_model_module": "@jupyter-widgets/base",
            "top": null,
            "grid_column": null,
            "overflow_y": null,
            "overflow_x": null,
            "grid_auto_flow": null,
            "grid_area": null,
            "grid_template_columns": null,
            "flex": null,
            "_model_name": "LayoutModel",
            "justify_items": null,
            "grid_row": null,
            "max_height": null,
            "align_content": null,
            "visibility": null,
            "align_self": null,
            "height": null,
            "min_height": null,
            "padding": null,
            "grid_auto_rows": null,
            "grid_gap": null,
            "max_width": null,
            "order": null,
            "_view_module_version": "1.2.0",
            "grid_template_areas": null,
            "object_position": null,
            "object_fit": null,
            "grid_auto_columns": null,
            "margin": null,
            "display": null,
            "left": null
          }
        },
        "515bbe99960b4f8392e81a03fcd57383": {
          "model_module": "@jupyter-widgets/controls",
          "model_name": "HTMLModel",
          "model_module_version": "1.5.0",
          "state": {
            "_view_name": "HTMLView",
            "style": "IPY_MODEL_598d149d31f946d1b01db0bc0af4920b",
            "_dom_classes": [],
            "description": "",
            "_model_name": "HTMLModel",
            "placeholder": "​",
            "_view_module": "@jupyter-widgets/controls",
            "_model_module_version": "1.5.0",
            "value": "",
            "_view_count": null,
            "_view_module_version": "1.5.0",
            "description_tooltip": null,
            "_model_module": "@jupyter-widgets/controls",
            "layout": "IPY_MODEL_38efed39411641b7add69469234f6b81"
          }
        },
        "28d8de6b022441568f0576389b71b0e2": {
          "model_module": "@jupyter-widgets/controls",
          "model_name": "FloatProgressModel",
          "model_module_version": "1.5.0",
          "state": {
            "_view_name": "ProgressView",
            "style": "IPY_MODEL_7143ce05140a4d7caedde870be47451e",
            "_dom_classes": [],
            "description": "",
            "_model_name": "FloatProgressModel",
            "bar_style": "success",
            "max": 1648877,
            "_view_module": "@jupyter-widgets/controls",
            "_model_module_version": "1.5.0",
            "value": 1648877,
            "_view_count": null,
            "_view_module_version": "1.5.0",
            "orientation": "horizontal",
            "min": 0,
            "description_tooltip": null,
            "_model_module": "@jupyter-widgets/controls",
            "layout": "IPY_MODEL_ed0f3809388a45bba7406e31d4353c63"
          }
        },
        "824d99d2a4de4b1aa741efcd4c97fb62": {
          "model_module": "@jupyter-widgets/controls",
          "model_name": "HTMLModel",
          "model_module_version": "1.5.0",
          "state": {
            "_view_name": "HTMLView",
            "style": "IPY_MODEL_f81d4b40a58e4be79a8aab4724daf5bf",
            "_dom_classes": [],
            "description": "",
            "_model_name": "HTMLModel",
            "placeholder": "​",
            "_view_module": "@jupyter-widgets/controls",
            "_model_module_version": "1.5.0",
            "value": " 1649664/? [00:00&lt;00:00, 12400622.26it/s]",
            "_view_count": null,
            "_view_module_version": "1.5.0",
            "description_tooltip": null,
            "_model_module": "@jupyter-widgets/controls",
            "layout": "IPY_MODEL_c99aeabd26074334b167ab3307a63bd7"
          }
        },
        "598d149d31f946d1b01db0bc0af4920b": {
          "model_module": "@jupyter-widgets/controls",
          "model_name": "DescriptionStyleModel",
          "model_module_version": "1.5.0",
          "state": {
            "_view_name": "StyleView",
            "_model_name": "DescriptionStyleModel",
            "description_width": "",
            "_view_module": "@jupyter-widgets/base",
            "_model_module_version": "1.5.0",
            "_view_count": null,
            "_view_module_version": "1.2.0",
            "_model_module": "@jupyter-widgets/controls"
          }
        },
        "38efed39411641b7add69469234f6b81": {
          "model_module": "@jupyter-widgets/base",
          "model_name": "LayoutModel",
          "model_module_version": "1.2.0",
          "state": {
            "_view_name": "LayoutView",
            "grid_template_rows": null,
            "right": null,
            "justify_content": null,
            "_view_module": "@jupyter-widgets/base",
            "overflow": null,
            "_model_module_version": "1.2.0",
            "_view_count": null,
            "flex_flow": null,
            "width": null,
            "min_width": null,
            "border": null,
            "align_items": null,
            "bottom": null,
            "_model_module": "@jupyter-widgets/base",
            "top": null,
            "grid_column": null,
            "overflow_y": null,
            "overflow_x": null,
            "grid_auto_flow": null,
            "grid_area": null,
            "grid_template_columns": null,
            "flex": null,
            "_model_name": "LayoutModel",
            "justify_items": null,
            "grid_row": null,
            "max_height": null,
            "align_content": null,
            "visibility": null,
            "align_self": null,
            "height": null,
            "min_height": null,
            "padding": null,
            "grid_auto_rows": null,
            "grid_gap": null,
            "max_width": null,
            "order": null,
            "_view_module_version": "1.2.0",
            "grid_template_areas": null,
            "object_position": null,
            "object_fit": null,
            "grid_auto_columns": null,
            "margin": null,
            "display": null,
            "left": null
          }
        },
        "7143ce05140a4d7caedde870be47451e": {
          "model_module": "@jupyter-widgets/controls",
          "model_name": "ProgressStyleModel",
          "model_module_version": "1.5.0",
          "state": {
            "_view_name": "StyleView",
            "_model_name": "ProgressStyleModel",
            "description_width": "",
            "_view_module": "@jupyter-widgets/base",
            "_model_module_version": "1.5.0",
            "_view_count": null,
            "_view_module_version": "1.2.0",
            "bar_color": null,
            "_model_module": "@jupyter-widgets/controls"
          }
        },
        "ed0f3809388a45bba7406e31d4353c63": {
          "model_module": "@jupyter-widgets/base",
          "model_name": "LayoutModel",
          "model_module_version": "1.2.0",
          "state": {
            "_view_name": "LayoutView",
            "grid_template_rows": null,
            "right": null,
            "justify_content": null,
            "_view_module": "@jupyter-widgets/base",
            "overflow": null,
            "_model_module_version": "1.2.0",
            "_view_count": null,
            "flex_flow": null,
            "width": null,
            "min_width": null,
            "border": null,
            "align_items": null,
            "bottom": null,
            "_model_module": "@jupyter-widgets/base",
            "top": null,
            "grid_column": null,
            "overflow_y": null,
            "overflow_x": null,
            "grid_auto_flow": null,
            "grid_area": null,
            "grid_template_columns": null,
            "flex": null,
            "_model_name": "LayoutModel",
            "justify_items": null,
            "grid_row": null,
            "max_height": null,
            "align_content": null,
            "visibility": null,
            "align_self": null,
            "height": null,
            "min_height": null,
            "padding": null,
            "grid_auto_rows": null,
            "grid_gap": null,
            "max_width": null,
            "order": null,
            "_view_module_version": "1.2.0",
            "grid_template_areas": null,
            "object_position": null,
            "object_fit": null,
            "grid_auto_columns": null,
            "margin": null,
            "display": null,
            "left": null
          }
        },
        "f81d4b40a58e4be79a8aab4724daf5bf": {
          "model_module": "@jupyter-widgets/controls",
          "model_name": "DescriptionStyleModel",
          "model_module_version": "1.5.0",
          "state": {
            "_view_name": "StyleView",
            "_model_name": "DescriptionStyleModel",
            "description_width": "",
            "_view_module": "@jupyter-widgets/base",
            "_model_module_version": "1.5.0",
            "_view_count": null,
            "_view_module_version": "1.2.0",
            "_model_module": "@jupyter-widgets/controls"
          }
        },
        "c99aeabd26074334b167ab3307a63bd7": {
          "model_module": "@jupyter-widgets/base",
          "model_name": "LayoutModel",
          "model_module_version": "1.2.0",
          "state": {
            "_view_name": "LayoutView",
            "grid_template_rows": null,
            "right": null,
            "justify_content": null,
            "_view_module": "@jupyter-widgets/base",
            "overflow": null,
            "_model_module_version": "1.2.0",
            "_view_count": null,
            "flex_flow": null,
            "width": null,
            "min_width": null,
            "border": null,
            "align_items": null,
            "bottom": null,
            "_model_module": "@jupyter-widgets/base",
            "top": null,
            "grid_column": null,
            "overflow_y": null,
            "overflow_x": null,
            "grid_auto_flow": null,
            "grid_area": null,
            "grid_template_columns": null,
            "flex": null,
            "_model_name": "LayoutModel",
            "justify_items": null,
            "grid_row": null,
            "max_height": null,
            "align_content": null,
            "visibility": null,
            "align_self": null,
            "height": null,
            "min_height": null,
            "padding": null,
            "grid_auto_rows": null,
            "grid_gap": null,
            "max_width": null,
            "order": null,
            "_view_module_version": "1.2.0",
            "grid_template_areas": null,
            "object_position": null,
            "object_fit": null,
            "grid_auto_columns": null,
            "margin": null,
            "display": null,
            "left": null
          }
        },
        "055a13e8a18c4ba8b357041bfa192aa8": {
          "model_module": "@jupyter-widgets/controls",
          "model_name": "HBoxModel",
          "model_module_version": "1.5.0",
          "state": {
            "_view_name": "HBoxView",
            "_dom_classes": [],
            "_model_name": "HBoxModel",
            "_view_module": "@jupyter-widgets/controls",
            "_model_module_version": "1.5.0",
            "_view_count": null,
            "_view_module_version": "1.5.0",
            "box_style": "",
            "layout": "IPY_MODEL_0d9d32cbe249423284ea2c34bed86f9d",
            "_model_module": "@jupyter-widgets/controls",
            "children": [
              "IPY_MODEL_4fa646f829244470907deb7e0854c2d9",
              "IPY_MODEL_9a9a13a78c7d4431aa3181fa6fcd98cb",
              "IPY_MODEL_ff0e095069974387b82df7926101a37f"
            ]
          }
        },
        "0d9d32cbe249423284ea2c34bed86f9d": {
          "model_module": "@jupyter-widgets/base",
          "model_name": "LayoutModel",
          "model_module_version": "1.2.0",
          "state": {
            "_view_name": "LayoutView",
            "grid_template_rows": null,
            "right": null,
            "justify_content": null,
            "_view_module": "@jupyter-widgets/base",
            "overflow": null,
            "_model_module_version": "1.2.0",
            "_view_count": null,
            "flex_flow": null,
            "width": null,
            "min_width": null,
            "border": null,
            "align_items": null,
            "bottom": null,
            "_model_module": "@jupyter-widgets/base",
            "top": null,
            "grid_column": null,
            "overflow_y": null,
            "overflow_x": null,
            "grid_auto_flow": null,
            "grid_area": null,
            "grid_template_columns": null,
            "flex": null,
            "_model_name": "LayoutModel",
            "justify_items": null,
            "grid_row": null,
            "max_height": null,
            "align_content": null,
            "visibility": null,
            "align_self": null,
            "height": null,
            "min_height": null,
            "padding": null,
            "grid_auto_rows": null,
            "grid_gap": null,
            "max_width": null,
            "order": null,
            "_view_module_version": "1.2.0",
            "grid_template_areas": null,
            "object_position": null,
            "object_fit": null,
            "grid_auto_columns": null,
            "margin": null,
            "display": null,
            "left": null
          }
        },
        "4fa646f829244470907deb7e0854c2d9": {
          "model_module": "@jupyter-widgets/controls",
          "model_name": "HTMLModel",
          "model_module_version": "1.5.0",
          "state": {
            "_view_name": "HTMLView",
            "style": "IPY_MODEL_d7898601af3340269a998717e54b54b8",
            "_dom_classes": [],
            "description": "",
            "_model_name": "HTMLModel",
            "placeholder": "​",
            "_view_module": "@jupyter-widgets/controls",
            "_model_module_version": "1.5.0",
            "value": "",
            "_view_count": null,
            "_view_module_version": "1.5.0",
            "description_tooltip": null,
            "_model_module": "@jupyter-widgets/controls",
            "layout": "IPY_MODEL_658de40e56e047188f0425d6999e0a6f"
          }
        },
        "9a9a13a78c7d4431aa3181fa6fcd98cb": {
          "model_module": "@jupyter-widgets/controls",
          "model_name": "FloatProgressModel",
          "model_module_version": "1.5.0",
          "state": {
            "_view_name": "ProgressView",
            "style": "IPY_MODEL_63e73f8a77be4abdbf7d50ca3b604433",
            "_dom_classes": [],
            "description": "",
            "_model_name": "FloatProgressModel",
            "bar_style": "success",
            "max": 4542,
            "_view_module": "@jupyter-widgets/controls",
            "_model_module_version": "1.5.0",
            "value": 4542,
            "_view_count": null,
            "_view_module_version": "1.5.0",
            "orientation": "horizontal",
            "min": 0,
            "description_tooltip": null,
            "_model_module": "@jupyter-widgets/controls",
            "layout": "IPY_MODEL_eea9c664e7a5438b9bf2fbbf549a4c22"
          }
        },
        "ff0e095069974387b82df7926101a37f": {
          "model_module": "@jupyter-widgets/controls",
          "model_name": "HTMLModel",
          "model_module_version": "1.5.0",
          "state": {
            "_view_name": "HTMLView",
            "style": "IPY_MODEL_94d42f7b2ad24f7283706cc50f61b576",
            "_dom_classes": [],
            "description": "",
            "_model_name": "HTMLModel",
            "placeholder": "​",
            "_view_module": "@jupyter-widgets/controls",
            "_model_module_version": "1.5.0",
            "value": " 5120/? [00:00&lt;00:00, 124365.64it/s]",
            "_view_count": null,
            "_view_module_version": "1.5.0",
            "description_tooltip": null,
            "_model_module": "@jupyter-widgets/controls",
            "layout": "IPY_MODEL_371b676d877c44e09fc64451ce83778d"
          }
        },
        "d7898601af3340269a998717e54b54b8": {
          "model_module": "@jupyter-widgets/controls",
          "model_name": "DescriptionStyleModel",
          "model_module_version": "1.5.0",
          "state": {
            "_view_name": "StyleView",
            "_model_name": "DescriptionStyleModel",
            "description_width": "",
            "_view_module": "@jupyter-widgets/base",
            "_model_module_version": "1.5.0",
            "_view_count": null,
            "_view_module_version": "1.2.0",
            "_model_module": "@jupyter-widgets/controls"
          }
        },
        "658de40e56e047188f0425d6999e0a6f": {
          "model_module": "@jupyter-widgets/base",
          "model_name": "LayoutModel",
          "model_module_version": "1.2.0",
          "state": {
            "_view_name": "LayoutView",
            "grid_template_rows": null,
            "right": null,
            "justify_content": null,
            "_view_module": "@jupyter-widgets/base",
            "overflow": null,
            "_model_module_version": "1.2.0",
            "_view_count": null,
            "flex_flow": null,
            "width": null,
            "min_width": null,
            "border": null,
            "align_items": null,
            "bottom": null,
            "_model_module": "@jupyter-widgets/base",
            "top": null,
            "grid_column": null,
            "overflow_y": null,
            "overflow_x": null,
            "grid_auto_flow": null,
            "grid_area": null,
            "grid_template_columns": null,
            "flex": null,
            "_model_name": "LayoutModel",
            "justify_items": null,
            "grid_row": null,
            "max_height": null,
            "align_content": null,
            "visibility": null,
            "align_self": null,
            "height": null,
            "min_height": null,
            "padding": null,
            "grid_auto_rows": null,
            "grid_gap": null,
            "max_width": null,
            "order": null,
            "_view_module_version": "1.2.0",
            "grid_template_areas": null,
            "object_position": null,
            "object_fit": null,
            "grid_auto_columns": null,
            "margin": null,
            "display": null,
            "left": null
          }
        },
        "63e73f8a77be4abdbf7d50ca3b604433": {
          "model_module": "@jupyter-widgets/controls",
          "model_name": "ProgressStyleModel",
          "model_module_version": "1.5.0",
          "state": {
            "_view_name": "StyleView",
            "_model_name": "ProgressStyleModel",
            "description_width": "",
            "_view_module": "@jupyter-widgets/base",
            "_model_module_version": "1.5.0",
            "_view_count": null,
            "_view_module_version": "1.2.0",
            "bar_color": null,
            "_model_module": "@jupyter-widgets/controls"
          }
        },
        "eea9c664e7a5438b9bf2fbbf549a4c22": {
          "model_module": "@jupyter-widgets/base",
          "model_name": "LayoutModel",
          "model_module_version": "1.2.0",
          "state": {
            "_view_name": "LayoutView",
            "grid_template_rows": null,
            "right": null,
            "justify_content": null,
            "_view_module": "@jupyter-widgets/base",
            "overflow": null,
            "_model_module_version": "1.2.0",
            "_view_count": null,
            "flex_flow": null,
            "width": null,
            "min_width": null,
            "border": null,
            "align_items": null,
            "bottom": null,
            "_model_module": "@jupyter-widgets/base",
            "top": null,
            "grid_column": null,
            "overflow_y": null,
            "overflow_x": null,
            "grid_auto_flow": null,
            "grid_area": null,
            "grid_template_columns": null,
            "flex": null,
            "_model_name": "LayoutModel",
            "justify_items": null,
            "grid_row": null,
            "max_height": null,
            "align_content": null,
            "visibility": null,
            "align_self": null,
            "height": null,
            "min_height": null,
            "padding": null,
            "grid_auto_rows": null,
            "grid_gap": null,
            "max_width": null,
            "order": null,
            "_view_module_version": "1.2.0",
            "grid_template_areas": null,
            "object_position": null,
            "object_fit": null,
            "grid_auto_columns": null,
            "margin": null,
            "display": null,
            "left": null
          }
        },
        "94d42f7b2ad24f7283706cc50f61b576": {
          "model_module": "@jupyter-widgets/controls",
          "model_name": "DescriptionStyleModel",
          "model_module_version": "1.5.0",
          "state": {
            "_view_name": "StyleView",
            "_model_name": "DescriptionStyleModel",
            "description_width": "",
            "_view_module": "@jupyter-widgets/base",
            "_model_module_version": "1.5.0",
            "_view_count": null,
            "_view_module_version": "1.2.0",
            "_model_module": "@jupyter-widgets/controls"
          }
        },
        "371b676d877c44e09fc64451ce83778d": {
          "model_module": "@jupyter-widgets/base",
          "model_name": "LayoutModel",
          "model_module_version": "1.2.0",
          "state": {
            "_view_name": "LayoutView",
            "grid_template_rows": null,
            "right": null,
            "justify_content": null,
            "_view_module": "@jupyter-widgets/base",
            "overflow": null,
            "_model_module_version": "1.2.0",
            "_view_count": null,
            "flex_flow": null,
            "width": null,
            "min_width": null,
            "border": null,
            "align_items": null,
            "bottom": null,
            "_model_module": "@jupyter-widgets/base",
            "top": null,
            "grid_column": null,
            "overflow_y": null,
            "overflow_x": null,
            "grid_auto_flow": null,
            "grid_area": null,
            "grid_template_columns": null,
            "flex": null,
            "_model_name": "LayoutModel",
            "justify_items": null,
            "grid_row": null,
            "max_height": null,
            "align_content": null,
            "visibility": null,
            "align_self": null,
            "height": null,
            "min_height": null,
            "padding": null,
            "grid_auto_rows": null,
            "grid_gap": null,
            "max_width": null,
            "order": null,
            "_view_module_version": "1.2.0",
            "grid_template_areas": null,
            "object_position": null,
            "object_fit": null,
            "grid_auto_columns": null,
            "margin": null,
            "display": null,
            "left": null
          }
        }
      }
    }
  },
  "cells": [
    {
      "cell_type": "markdown",
      "metadata": {
        "id": "MRRZSe2Kkthp"
      },
      "source": [
        "Shahar Michaeli - 316535608"
      ]
    },
    {
      "cell_type": "code",
      "metadata": {
        "id": "uxXfN16M4iRH"
      },
      "source": [
        "import torch\n",
        "from torch import nn\n",
        "import numpy as np\n",
        "from torchvision import datasets\n",
        "import torchvision.transforms as transforms\n",
        "import matplotlib.pyplot as plt\n",
        "import time\n",
        "from sklearn.metrics import precision_recall_fscore_support,balanced_accuracy_score\n"
      ],
      "execution_count": 1,
      "outputs": []
    },
    {
      "cell_type": "code",
      "metadata": {
        "id": "yeg59ZIr890_"
      },
      "source": [
        "image_normalize = lambda x : x / 255.\n",
        "one_hot = lambda t : nn.functional.one_hot(t)"
      ],
      "execution_count": 2,
      "outputs": []
    },
    {
      "cell_type": "code",
      "metadata": {
        "id": "7_yJm0N28j-P",
        "colab": {
          "base_uri": "https://localhost:8080/",
          "height": 440,
          "referenced_widgets": [
            "d985676fa1dc4dbdbfd636adbefe7f9f",
            "ae320072e218437fbfd58c1edc839c95",
            "9c718f7ba9be4693815a20767ba28bdd",
            "04873b8591b3474aaab2a6d80a9ecc2f",
            "cd8be466b3c242d99ca62e172b333ffc",
            "faa7f0ec052f4b1c85fdcefb99c1cefe",
            "d69afe47e89d4398b199c166d3ecbe2a",
            "4838fb2b6abb427bbfa67e82a05c2e5a",
            "ed019e7893b84c11be6bd8e82b0b664d",
            "2410dd85c95140b1b3069a6049499214",
            "17608e3a556a418095ee9133c7404933",
            "93bc9b0674e145d48742bffecc229b7b",
            "9cd82845a9634693a7c61ce12365a684",
            "45c0ba22da7048daacc7ab653aab9376",
            "f196c42bc4ee4a95adec8f2f1e36483f",
            "2cf7f434232a4e42b95907e7cfa3b358",
            "418c186b98ca424fac29d7d16bacd012",
            "58d80db4ab504e3ba55f53cee44bceac",
            "b9b04a86815d44c3955c6222a541e5cf",
            "398d384589ea46f0aac990b2ef9ecfac",
            "c1160a5f8e154ff6aaf492228664d4af",
            "d837d64edd9148cb9d05f8d6396adc78",
            "473c75a165c240f6ab502b6661fecaaa",
            "8cd185642255415abd47adaa72a25c29",
            "515bbe99960b4f8392e81a03fcd57383",
            "28d8de6b022441568f0576389b71b0e2",
            "824d99d2a4de4b1aa741efcd4c97fb62",
            "598d149d31f946d1b01db0bc0af4920b",
            "38efed39411641b7add69469234f6b81",
            "7143ce05140a4d7caedde870be47451e",
            "ed0f3809388a45bba7406e31d4353c63",
            "f81d4b40a58e4be79a8aab4724daf5bf",
            "c99aeabd26074334b167ab3307a63bd7",
            "055a13e8a18c4ba8b357041bfa192aa8",
            "0d9d32cbe249423284ea2c34bed86f9d",
            "4fa646f829244470907deb7e0854c2d9",
            "9a9a13a78c7d4431aa3181fa6fcd98cb",
            "ff0e095069974387b82df7926101a37f",
            "d7898601af3340269a998717e54b54b8",
            "658de40e56e047188f0425d6999e0a6f",
            "63e73f8a77be4abdbf7d50ca3b604433",
            "eea9c664e7a5438b9bf2fbbf549a4c22",
            "94d42f7b2ad24f7283706cc50f61b576",
            "371b676d877c44e09fc64451ce83778d"
          ]
        },
        "outputId": "8f292e7a-eabf-490c-ee03-650af8821803"
      },
      "source": [
        "train_dataset = datasets.MNIST('/files/',train=True,download=True,transform=transforms.Compose([transforms.ToTensor(),transforms.Lambda(image_normalize)]))\n",
        "test_dataset = datasets.MNIST('/files/',train=False,download=True,transform=transforms.Compose([transforms.ToTensor(),transforms.Lambda(image_normalize)]))\n",
        "\n",
        "train_length = int(0.9*len(train_dataset))\n",
        "val_length = int(0.1*len(train_dataset))"
      ],
      "execution_count": 3,
      "outputs": [
        {
          "output_type": "stream",
          "name": "stdout",
          "text": [
            "Downloading http://yann.lecun.com/exdb/mnist/train-images-idx3-ubyte.gz\n",
            "Downloading http://yann.lecun.com/exdb/mnist/train-images-idx3-ubyte.gz to /files/MNIST/raw/train-images-idx3-ubyte.gz\n"
          ]
        },
        {
          "output_type": "display_data",
          "data": {
            "application/vnd.jupyter.widget-view+json": {
              "model_id": "d985676fa1dc4dbdbfd636adbefe7f9f",
              "version_minor": 0,
              "version_major": 2
            },
            "text/plain": [
              "  0%|          | 0/9912422 [00:00<?, ?it/s]"
            ]
          },
          "metadata": {}
        },
        {
          "output_type": "stream",
          "name": "stdout",
          "text": [
            "Extracting /files/MNIST/raw/train-images-idx3-ubyte.gz to /files/MNIST/raw\n",
            "\n",
            "Downloading http://yann.lecun.com/exdb/mnist/train-labels-idx1-ubyte.gz\n",
            "Downloading http://yann.lecun.com/exdb/mnist/train-labels-idx1-ubyte.gz to /files/MNIST/raw/train-labels-idx1-ubyte.gz\n"
          ]
        },
        {
          "output_type": "display_data",
          "data": {
            "application/vnd.jupyter.widget-view+json": {
              "model_id": "93bc9b0674e145d48742bffecc229b7b",
              "version_minor": 0,
              "version_major": 2
            },
            "text/plain": [
              "  0%|          | 0/28881 [00:00<?, ?it/s]"
            ]
          },
          "metadata": {}
        },
        {
          "output_type": "stream",
          "name": "stdout",
          "text": [
            "Extracting /files/MNIST/raw/train-labels-idx1-ubyte.gz to /files/MNIST/raw\n",
            "\n",
            "Downloading http://yann.lecun.com/exdb/mnist/t10k-images-idx3-ubyte.gz\n",
            "Downloading http://yann.lecun.com/exdb/mnist/t10k-images-idx3-ubyte.gz to /files/MNIST/raw/t10k-images-idx3-ubyte.gz\n"
          ]
        },
        {
          "output_type": "display_data",
          "data": {
            "application/vnd.jupyter.widget-view+json": {
              "model_id": "473c75a165c240f6ab502b6661fecaaa",
              "version_minor": 0,
              "version_major": 2
            },
            "text/plain": [
              "  0%|          | 0/1648877 [00:00<?, ?it/s]"
            ]
          },
          "metadata": {}
        },
        {
          "output_type": "stream",
          "name": "stdout",
          "text": [
            "Extracting /files/MNIST/raw/t10k-images-idx3-ubyte.gz to /files/MNIST/raw\n",
            "\n",
            "Downloading http://yann.lecun.com/exdb/mnist/t10k-labels-idx1-ubyte.gz\n",
            "Downloading http://yann.lecun.com/exdb/mnist/t10k-labels-idx1-ubyte.gz to /files/MNIST/raw/t10k-labels-idx1-ubyte.gz\n"
          ]
        },
        {
          "output_type": "display_data",
          "data": {
            "application/vnd.jupyter.widget-view+json": {
              "model_id": "055a13e8a18c4ba8b357041bfa192aa8",
              "version_minor": 0,
              "version_major": 2
            },
            "text/plain": [
              "  0%|          | 0/4542 [00:00<?, ?it/s]"
            ]
          },
          "metadata": {}
        },
        {
          "output_type": "stream",
          "name": "stdout",
          "text": [
            "Extracting /files/MNIST/raw/t10k-labels-idx1-ubyte.gz to /files/MNIST/raw\n",
            "\n"
          ]
        }
      ]
    },
    {
      "cell_type": "code",
      "metadata": {
        "colab": {
          "base_uri": "https://localhost:8080/"
        },
        "id": "5CoUfVmQ4lif",
        "outputId": "81a08e79-679f-4757-9e27-019913926579"
      },
      "source": [
        "device = torch.device(\"cuda:0\" if torch.cuda.is_available() else \"cpu\")\n",
        "print(device)"
      ],
      "execution_count": 4,
      "outputs": [
        {
          "output_type": "stream",
          "name": "stdout",
          "text": [
            "cuda:0\n"
          ]
        }
      ]
    },
    {
      "cell_type": "code",
      "metadata": {
        "id": "SlvAP4f3-Qjl"
      },
      "source": [
        "train_set, val_set = torch.utils.data.random_split(train_dataset, [train_length, val_length])"
      ],
      "execution_count": 5,
      "outputs": []
    },
    {
      "cell_type": "code",
      "metadata": {
        "id": "hzO8fl5v4m3U"
      },
      "source": [
        "train_loader = torch.utils.data.DataLoader(train_set,batch_size=50,shuffle=True)\n",
        "val_loader = torch.utils.data.DataLoader(val_set,batch_size=50,shuffle=True)\n",
        "test_loader = torch.utils.data.DataLoader(test_dataset,batch_size=50,shuffle=True)\n",
        "\n",
        "datasets_with_types = [(\"Train Dataset\",train_loader),(\"Validation Dataset\",val_loader),(\"Test Dataset\",test_loader)]"
      ],
      "execution_count": 6,
      "outputs": []
    },
    {
      "cell_type": "code",
      "metadata": {
        "id": "BC_BrzQqCGMz"
      },
      "source": [
        "def weight_reset(m):\n",
        "    if isinstance(m, nn.Conv2d) or isinstance(m, nn.Linear):\n",
        "        m.reset_parameters()\n",
        "        \n",
        "def init_conv2d_weights(m):\n",
        "    if isinstance(m, nn.Conv2d):\n",
        "        nn.init.xavier_normal_(m.weight)\n",
        "        m.weight = nn.Parameter(torch.abs(m.weight))\n",
        "        m.bias.data.fill_(0.01)"
      ],
      "execution_count": 7,
      "outputs": []
    },
    {
      "cell_type": "code",
      "metadata": {
        "id": "b7qeWwXCCfG-"
      },
      "source": [
        "def train(model,loss,optimizer):\n",
        "  model.to(device)\n",
        "  model.train()\n",
        "\n",
        "  num_epochs = 20\n",
        "  total_batches = 0\n",
        "  MAX_BATCHES = 13000\n",
        "\n",
        "  start = time.time()\n",
        "  for epoch in range(num_epochs):\n",
        "    for batch_idx, (images, labels) in enumerate(train_loader):\n",
        "      images, labels = images.to(device), labels.to(device)\n",
        "      cross_entropy = loss(model(images), labels)\n",
        "      optimizer.zero_grad()\n",
        "      cross_entropy.backward()\n",
        "      optimizer.step()\n",
        "\n",
        "      if not (total_batches % 1000):\n",
        "        print(f\"Batch Number : {total_batches}, Loss : {cross_entropy.item()}\")\n",
        "      \n",
        "      if total_batches == MAX_BATCHES:\n",
        "        end = time.time()\n",
        "        total_weights = sum([p.numel() for p in model.parameters()])\n",
        "        print(f\"Total Train Time : {round(end-start,2)} s , Network Total Weights : {total_weights}\")\n",
        "        return \n",
        "      total_batches+=1\n"
      ],
      "execution_count": 8,
      "outputs": []
    },
    {
      "cell_type": "code",
      "metadata": {
        "id": "UfdYMJwcPWuL"
      },
      "source": [
        "def predict(model,dataloader):\n",
        "  model.eval()\n",
        "  loss = torch.nn.CrossEntropyLoss()\n",
        "  y_pred = torch.tensor([], device=device)\n",
        "  y_true = torch.tensor([], dtype=torch.long, device=device)\n",
        "\n",
        "  with torch.no_grad():\n",
        "    for batch_idx, (images, labels) in enumerate(dataloader):\n",
        "      images, labels = images.to(device), labels.to(device)\n",
        "      output = model(images)\n",
        "      y_pred = torch.cat((y_pred, torch.argmax(output,1)), 0)\n",
        "      y_true = torch.cat((y_true, labels), 0)\n",
        "      \n",
        "  return y_pred,y_true"
      ],
      "execution_count": 9,
      "outputs": []
    },
    {
      "cell_type": "code",
      "metadata": {
        "id": "U3d1pGF4BMAP"
      },
      "source": [
        "def accuracy_calculate(y_pred,y_true):\n",
        "  accuracy = torch.mean((y_pred == y_true).type(torch.float32))\n",
        "  return accuracy\n",
        "\n",
        "def balanced_accuracy_calculate(y_true, y_pred):\n",
        "  return balanced_accuracy_score(y_true, y_pred)"
      ],
      "execution_count": 10,
      "outputs": []
    },
    {
      "cell_type": "code",
      "metadata": {
        "id": "3hAISq2fYn00"
      },
      "source": [
        "def print_metrics(type_name, y_pred, y_true):\n",
        "  torch.set_printoptions(precision=2)\n",
        "  precision,recall,fscore,_ = precision_recall_fscore_support(y_pred=y_pred,y_true=y_true,average=None)\n",
        "  # accuracy = torch.mean((y_pred == y_true).type(torch.float32))\n",
        "  acc = [0 for c in range(10)]\n",
        "  for c in range(10):\n",
        "      acc[c] = float(((y_pred == y_true) * (y_true == c)).type(torch.float32).sum() / (y_true == c).type(torch.float32).sum())\n",
        "\n",
        "  print(f\"Dataset Type : {type_name}\")\n",
        "  print(f\"FScore : [{','.join([str(round(x,2)) for x in fscore])}]\")\n",
        "  print(f\"Precision : [{','.join([str(round(x,2)) for x in precision])}]\")\n",
        "  print(f\"Recall : [{','.join([str(round(x,2)) for x in recall])}]\")\n",
        "  print(f\"Accuracy : [{','.join([str(round(x,2)) for x in acc])}]\")\n",
        "  print()"
      ],
      "execution_count": 11,
      "outputs": []
    },
    {
      "cell_type": "code",
      "metadata": {
        "id": "tcXMgTZHWqAP"
      },
      "source": [
        "class PlotLayer(nn.Module):\n",
        "    def __init__(self):\n",
        "        super(PlotLayer, self).__init__()\n",
        "        self.i = 1\n",
        "        self.visualization = False\n",
        "    def forward(self, x):\n",
        "      if self.visualization:\n",
        "        if self.i == 1:\n",
        "          plt.subplot(1, 6, self.i).set_title('Original Image')\n",
        "        else:\n",
        "          plt.subplot(1, 6, self.i).set_title(str(self.i))\n",
        "        self.i+= 1\n",
        "        plt.imshow(x.detach().numpy()[0][0])\n",
        "      return x"
      ],
      "execution_count": 12,
      "outputs": []
    },
    {
      "cell_type": "code",
      "metadata": {
        "id": "5pm-8RHAGbpa"
      },
      "source": [
        "plot_layer = PlotLayer()"
      ],
      "execution_count": 13,
      "outputs": []
    },
    {
      "cell_type": "markdown",
      "metadata": {
        "id": "KRJhGax9EuzJ"
      },
      "source": [
        "# Model 1 - Logistic Regression without Hidden Layers"
      ]
    },
    {
      "cell_type": "code",
      "metadata": {
        "id": "zczIB6J86gCf"
      },
      "source": [
        "lr=0.01\n",
        "loss = torch.nn.CrossEntropyLoss()\n",
        "LR_Model_No_HL = nn.Sequential(\n",
        "    nn.Flatten(),\n",
        "    nn.Linear(784, 10),\n",
        ")\n",
        "optimizer = torch.optim.Adam(LR_Model_No_HL.parameters(), lr=lr)"
      ],
      "execution_count": null,
      "outputs": []
    },
    {
      "cell_type": "code",
      "metadata": {
        "colab": {
          "base_uri": "https://localhost:8080/"
        },
        "id": "1wX3mFhMQnam",
        "outputId": "56b1a8ae-8fa7-407f-dda5-0e718f2b1f5d"
      },
      "source": [
        "train(LR_Model_No_HL,loss,optimizer)"
      ],
      "execution_count": null,
      "outputs": [
        {
          "output_type": "stream",
          "name": "stdout",
          "text": [
            "Batch Number : 0, Loss : 2.3040242195129395\n",
            "Batch Number : 1000, Loss : 1.3354681730270386\n",
            "Batch Number : 2000, Loss : 0.8204839825630188\n",
            "Batch Number : 3000, Loss : 0.7713116407394409\n",
            "Batch Number : 4000, Loss : 0.475637823343277\n",
            "Batch Number : 5000, Loss : 0.5292565822601318\n",
            "Batch Number : 6000, Loss : 0.2914387881755829\n",
            "Batch Number : 7000, Loss : 0.4854883551597595\n",
            "Batch Number : 8000, Loss : 0.3794262409210205\n",
            "Batch Number : 9000, Loss : 0.32263630628585815\n",
            "Batch Number : 10000, Loss : 0.4870041012763977\n",
            "Batch Number : 11000, Loss : 0.43241211771965027\n",
            "Batch Number : 12000, Loss : 0.3422311544418335\n",
            "Batch Number : 13000, Loss : 0.44603997468948364\n",
            "Total Train Time : 119.21 s , Network Total Weights : 7850\n"
          ]
        }
      ]
    },
    {
      "cell_type": "code",
      "metadata": {
        "id": "jgMjhx6TQNwq",
        "colab": {
          "base_uri": "https://localhost:8080/"
        },
        "outputId": "cc59e174-59cc-47a9-ce91-5c5abe48b336"
      },
      "source": [
        "for dataset_type,dataloader in datasets_with_types:\n",
        "  y_pred, y_true = predict(LR_Model_No_HL,dataloader)\n",
        "  print_metrics(dataset_type,y_pred.cpu(), y_true.cpu())\n"
      ],
      "execution_count": null,
      "outputs": [
        {
          "output_type": "stream",
          "name": "stdout",
          "text": [
            "Dataset Type : Train Dataset\n",
            "FScore : [0.95,0.94,0.88,0.87,0.91,0.85,0.94,0.92,0.85,0.87]\n",
            "Precision : [0.95,0.92,0.91,0.87,0.9,0.86,0.92,0.92,0.86,0.87]\n",
            "Recall : [0.96,0.96,0.86,0.87,0.92,0.84,0.95,0.91,0.85,0.88]\n",
            "Accuracy : [0.96,0.96,0.86,0.87,0.92,0.84,0.95,0.91,0.85,0.88]\n",
            "\n",
            "Dataset Type : Validation Dataset\n",
            "FScore : [0.96,0.93,0.88,0.88,0.89,0.85,0.93,0.91,0.85,0.87]\n",
            "Precision : [0.95,0.91,0.9,0.88,0.88,0.87,0.92,0.93,0.85,0.86]\n",
            "Recall : [0.97,0.96,0.86,0.88,0.9,0.84,0.94,0.89,0.86,0.87]\n",
            "Accuracy : [0.97,0.96,0.86,0.88,0.9,0.84,0.94,0.89,0.86,0.87]\n",
            "\n",
            "Dataset Type : Test Dataset\n",
            "FScore : [0.96,0.95,0.89,0.89,0.91,0.86,0.93,0.91,0.86,0.88]\n",
            "Precision : [0.94,0.94,0.93,0.88,0.9,0.88,0.92,0.92,0.86,0.88]\n",
            "Recall : [0.98,0.96,0.86,0.9,0.92,0.84,0.94,0.9,0.87,0.88]\n",
            "Accuracy : [0.98,0.96,0.86,0.9,0.92,0.84,0.94,0.9,0.87,0.88]\n",
            "\n"
          ]
        }
      ]
    },
    {
      "cell_type": "markdown",
      "metadata": {
        "id": "0EqRUxRSI8H6"
      },
      "source": [
        "# Logistic Regression with Two Fully Connected "
      ]
    },
    {
      "cell_type": "code",
      "metadata": {
        "id": "VqxWMNWJJBjE"
      },
      "source": [
        "lr=0.01\n",
        "loss = torch.nn.CrossEntropyLoss()\n",
        "LR_Model_TWO_FC = nn.Sequential(\n",
        "    nn.Flatten(),\n",
        "    nn.Linear(784, 200),\n",
        "    nn.ReLU(),\n",
        "    nn.Linear(200, 200),\n",
        "    nn.ReLU(),\n",
        "    nn.Linear(200, 10),\n",
        ")\n",
        "optimizer = torch.optim.Adam(LR_Model_TWO_FC.parameters(), lr=lr)\n"
      ],
      "execution_count": 14,
      "outputs": []
    },
    {
      "cell_type": "code",
      "metadata": {
        "id": "WYiP47bdKZ0n",
        "colab": {
          "base_uri": "https://localhost:8080/"
        },
        "outputId": "d9953048-d21f-4318-dd65-b98e07d550fe"
      },
      "source": [
        "train(LR_Model_TWO_FC,loss,optimizer)"
      ],
      "execution_count": 15,
      "outputs": [
        {
          "output_type": "stream",
          "name": "stdout",
          "text": [
            "Batch Number : 0, Loss : 2.3113183975219727\n",
            "Batch Number : 1000, Loss : 0.10337057709693909\n",
            "Batch Number : 2000, Loss : 0.06197874993085861\n",
            "Batch Number : 3000, Loss : 0.031527310609817505\n",
            "Batch Number : 4000, Loss : 0.11984220147132874\n",
            "Batch Number : 5000, Loss : 0.14444397389888763\n",
            "Batch Number : 6000, Loss : 0.04891185835003853\n",
            "Batch Number : 7000, Loss : 0.10898006707429886\n",
            "Batch Number : 8000, Loss : 0.019743192940950394\n",
            "Batch Number : 9000, Loss : 0.15977200865745544\n",
            "Batch Number : 10000, Loss : 0.11724363267421722\n",
            "Batch Number : 11000, Loss : 0.018491683527827263\n",
            "Batch Number : 12000, Loss : 0.03921430930495262\n",
            "Batch Number : 13000, Loss : 0.03627786785364151\n",
            "Total Train Time : 130.65 s , Network Total Weights : 199210\n"
          ]
        }
      ]
    },
    {
      "cell_type": "code",
      "metadata": {
        "id": "brzywoXNenIz",
        "colab": {
          "base_uri": "https://localhost:8080/"
        },
        "outputId": "0cfcb9d4-5e65-4850-ea94-402065fd8d8d"
      },
      "source": [
        "for dataset_type,dataloader in datasets_with_types:\n",
        "  y_pred, y_true = predict(LR_Model_TWO_FC,dataloader)\n",
        "  print_metrics(dataset_type,y_pred.cpu(), y_true.cpu())"
      ],
      "execution_count": 16,
      "outputs": [
        {
          "output_type": "stream",
          "name": "stdout",
          "text": [
            "Dataset Type : Train Dataset\n",
            "FScore : [0.99,0.99,0.99,0.98,0.99,0.98,0.99,0.99,0.98,0.98]\n",
            "Precision : [1.0,0.99,0.99,0.99,0.99,0.99,0.98,0.99,0.97,0.98]\n",
            "Recall : [0.99,1.0,0.98,0.97,0.99,0.98,1.0,0.98,0.99,0.99]\n",
            "Accuracy : [0.99,1.0,0.98,0.97,0.99,0.98,1.0,0.98,0.99,0.99]\n",
            "\n",
            "Dataset Type : Validation Dataset\n",
            "FScore : [0.98,0.99,0.97,0.98,0.97,0.96,0.98,0.98,0.96,0.96]\n",
            "Precision : [0.98,0.99,0.98,0.99,0.97,0.97,0.97,0.99,0.95,0.95]\n",
            "Recall : [0.97,0.99,0.97,0.96,0.97,0.96,0.99,0.97,0.98,0.97]\n",
            "Accuracy : [0.97,0.99,0.97,0.96,0.97,0.96,0.99,0.97,0.98,0.97]\n",
            "\n",
            "Dataset Type : Test Dataset\n",
            "FScore : [0.98,0.99,0.97,0.98,0.98,0.97,0.98,0.97,0.97,0.97]\n",
            "Precision : [0.98,0.98,0.98,0.98,0.98,0.98,0.97,0.98,0.95,0.95]\n",
            "Recall : [0.98,0.99,0.96,0.97,0.97,0.96,0.98,0.96,0.98,0.98]\n",
            "Accuracy : [0.98,0.99,0.96,0.97,0.97,0.96,0.98,0.96,0.98,0.98]\n",
            "\n"
          ]
        }
      ]
    },
    {
      "cell_type": "markdown",
      "metadata": {
        "id": "FsHL-wy6ycaM"
      },
      "source": [
        "# Model 3"
      ]
    },
    {
      "cell_type": "code",
      "metadata": {
        "id": "rOC9Hxxlyb7u"
      },
      "source": [
        "lr = 1e-3\n",
        "loss = torch.nn.CrossEntropyLoss()\n",
        "model3 = nn.Sequential(\n",
        "    plot_layer,\n",
        "    nn.Conv2d(in_channels=1, out_channels=32, kernel_size=(5,5), stride=(1,1), padding='same'),\n",
        "    plot_layer,\n",
        "    nn.ReLU(),\n",
        "    plot_layer,\n",
        "    nn.MaxPool2d(kernel_size=(2,2), stride=(2,2)),\n",
        "    nn.Flatten(),\n",
        "    nn.Linear(in_features=32*14*14, out_features=1024),\n",
        "    nn.ReLU(),    \n",
        "    nn.Linear(in_features=1024, out_features=10)\n",
        ")\n",
        "\n",
        "model3.apply(init_conv2d_weights)\n",
        "optimizer = torch.optim.Adam(model3.parameters(), lr=lr)\n"
      ],
      "execution_count": null,
      "outputs": []
    },
    {
      "cell_type": "code",
      "metadata": {
        "id": "C49xn2qGAZdA",
        "colab": {
          "base_uri": "https://localhost:8080/"
        },
        "outputId": "82edadb5-8678-4923-fbe5-769cb1de16a3"
      },
      "source": [
        "train(model3,loss,optimizer)"
      ],
      "execution_count": null,
      "outputs": [
        {
          "output_type": "stream",
          "name": "stdout",
          "text": [
            "Batch Number : 0, Loss : 2.301623582839966\n",
            "Batch Number : 1000, Loss : 0.2716485261917114\n",
            "Batch Number : 2000, Loss : 0.1759038120508194\n",
            "Batch Number : 3000, Loss : 0.04234032332897186\n",
            "Batch Number : 4000, Loss : 0.15155144035816193\n",
            "Batch Number : 5000, Loss : 0.07644286751747131\n",
            "Batch Number : 6000, Loss : 0.0798410102725029\n",
            "Batch Number : 7000, Loss : 0.0723567083477974\n",
            "Batch Number : 8000, Loss : 0.03467173874378204\n",
            "Batch Number : 9000, Loss : 0.08411362022161484\n",
            "Batch Number : 10000, Loss : 0.022686569020152092\n",
            "Batch Number : 11000, Loss : 0.013663121499121189\n",
            "Batch Number : 12000, Loss : 0.006086504086852074\n",
            "Batch Number : 13000, Loss : 0.07548071444034576\n",
            "Total Train Time : 138.06 s , Network Total Weights : 6434634\n"
          ]
        }
      ]
    },
    {
      "cell_type": "code",
      "metadata": {
        "id": "zzg1nw8LBHgE",
        "colab": {
          "base_uri": "https://localhost:8080/"
        },
        "outputId": "287b608b-4e70-4752-90b9-791d1e7e2138"
      },
      "source": [
        "for dataset_type,dataloader in datasets_with_types:\n",
        "  y_pred, y_true = predict(model3,dataloader)\n",
        "  print_metrics(dataset_type,y_pred.cpu(), y_true.cpu())"
      ],
      "execution_count": null,
      "outputs": [
        {
          "output_type": "stream",
          "name": "stdout",
          "text": [
            "Dataset Type : Train Dataset\n",
            "FScore : [0.99,0.99,0.99,0.98,0.99,0.99,0.99,0.99,0.98,0.98]\n",
            "Precision : [0.98,1.0,0.99,0.99,0.99,0.99,1.0,0.99,0.98,0.96]\n",
            "Recall : [1.0,0.99,0.99,0.98,0.98,0.98,0.99,0.99,0.99,0.99]\n",
            "Accuracy : [1.0,0.99,0.99,0.98,0.98,0.98,0.99,0.99,0.99,0.99]\n",
            "\n",
            "Dataset Type : Validation Dataset\n",
            "FScore : [0.99,0.98,0.98,0.98,0.97,0.97,0.98,0.97,0.96,0.96]\n",
            "Precision : [0.98,0.99,0.98,0.98,0.99,0.98,0.98,0.96,0.95,0.94]\n",
            "Recall : [0.99,0.97,0.98,0.97,0.95,0.95,0.97,0.98,0.98,0.97]\n",
            "Accuracy : [0.99,0.97,0.98,0.97,0.95,0.95,0.97,0.98,0.98,0.97]\n",
            "\n",
            "Dataset Type : Test Dataset\n",
            "FScore : [0.98,0.99,0.98,0.97,0.97,0.98,0.98,0.98,0.97,0.96]\n",
            "Precision : [0.97,0.99,0.98,0.97,0.98,0.99,0.99,0.98,0.97,0.95]\n",
            "Recall : [0.99,0.99,0.97,0.98,0.96,0.97,0.97,0.98,0.97,0.98]\n",
            "Accuracy : [0.99,0.99,0.97,0.98,0.96,0.97,0.97,0.98,0.97,0.98]\n",
            "\n"
          ]
        }
      ]
    },
    {
      "cell_type": "markdown",
      "metadata": {
        "id": "4TcqaFli9Xjt"
      },
      "source": [
        "# Model 4"
      ]
    },
    {
      "cell_type": "code",
      "metadata": {
        "id": "FVFO7LVi7kzj"
      },
      "source": [
        "lr = 1e-3\n",
        "loss = torch.nn.CrossEntropyLoss()\n",
        "model4 = nn.Sequential(\n",
        "    plot_layer,\n",
        "    nn.Conv2d(in_channels=1, out_channels=32, kernel_size=(5,5), stride=(1,1), padding='same'),\n",
        "    plot_layer,\n",
        "    nn.ReLU(),\n",
        "    plot_layer,\n",
        "    nn.MaxPool2d(kernel_size=(2,2), stride=(2,2)),\n",
        "\n",
        "    nn.Conv2d(in_channels=32, out_channels=64, kernel_size=(5,5), stride=(1,1), padding='same'),\n",
        "    plot_layer,\n",
        "    nn.ReLU(),\n",
        "    plot_layer,\n",
        "    nn.MaxPool2d(kernel_size=(2,2), stride=(2,2)),\n",
        "\n",
        "    nn.Flatten(),\n",
        "    nn.Linear(in_features=64*7*7, out_features=1024),\n",
        "    nn.ReLU(),    \n",
        "    nn.Linear(in_features=1024, out_features=10)\n",
        ")\n",
        "\n",
        "model4.apply(init_conv2d_weights)\n",
        "optimizer = torch.optim.Adam(model4.parameters(), lr=lr)\n"
      ],
      "execution_count": null,
      "outputs": []
    },
    {
      "cell_type": "code",
      "metadata": {
        "id": "BQX5cITY8qgc",
        "colab": {
          "base_uri": "https://localhost:8080/"
        },
        "outputId": "9541e706-7657-4195-ac01-6982c1433dfb"
      },
      "source": [
        "train(model4,loss,optimizer)"
      ],
      "execution_count": null,
      "outputs": [
        {
          "output_type": "stream",
          "name": "stdout",
          "text": [
            "Batch Number : 0, Loss : 2.296264886856079\n",
            "Batch Number : 1000, Loss : 0.36799976229667664\n",
            "Batch Number : 2000, Loss : 0.18927067518234253\n",
            "Batch Number : 3000, Loss : 0.14405548572540283\n",
            "Batch Number : 4000, Loss : 0.022595949470996857\n",
            "Batch Number : 5000, Loss : 0.015352425165474415\n",
            "Batch Number : 6000, Loss : 0.1718735694885254\n",
            "Batch Number : 7000, Loss : 0.04539993777871132\n",
            "Batch Number : 8000, Loss : 0.007791819516569376\n",
            "Batch Number : 9000, Loss : 0.007204375695437193\n",
            "Batch Number : 10000, Loss : 0.02481054700911045\n",
            "Batch Number : 11000, Loss : 0.002093401737511158\n",
            "Batch Number : 12000, Loss : 0.008901005610823631\n",
            "Batch Number : 13000, Loss : 0.07396607846021652\n",
            "Total Train Time : 148.68 s , Network Total Weights : 3274634\n"
          ]
        }
      ]
    },
    {
      "cell_type": "code",
      "metadata": {
        "id": "t98QKGgM9NpG",
        "colab": {
          "base_uri": "https://localhost:8080/"
        },
        "outputId": "bb300199-9f27-4887-fc7f-11aee84fc63f"
      },
      "source": [
        "for dataset_type,dataloader in datasets_with_types:\n",
        "  y_pred, y_true = predict(model4,dataloader)\n",
        "  print_metrics(dataset_type,y_pred.cpu(), y_true.cpu())"
      ],
      "execution_count": null,
      "outputs": [
        {
          "output_type": "stream",
          "name": "stdout",
          "text": [
            "Dataset Type : Train Dataset\n",
            "FScore : [1.0,1.0,0.99,1.0,1.0,1.0,0.99,1.0,1.0,1.0]\n",
            "Precision : [1.0,1.0,1.0,0.99,1.0,1.0,0.99,1.0,1.0,0.99]\n",
            "Recall : [1.0,1.0,0.99,1.0,1.0,1.0,1.0,1.0,0.99,1.0]\n",
            "Accuracy : [1.0,1.0,0.99,1.0,1.0,1.0,1.0,1.0,0.99,1.0]\n",
            "\n",
            "Dataset Type : Validation Dataset\n",
            "FScore : [0.99,0.99,0.99,0.99,0.98,0.98,0.99,0.98,0.98,0.98]\n",
            "Precision : [1.0,0.99,1.0,0.98,0.98,0.99,0.98,0.98,0.98,0.98]\n",
            "Recall : [0.99,0.99,0.98,0.99,0.98,0.97,0.99,0.98,0.98,0.98]\n",
            "Accuracy : [0.99,0.99,0.98,0.99,0.98,0.97,0.99,0.98,0.98,0.98]\n",
            "\n",
            "Dataset Type : Test Dataset\n",
            "FScore : [0.99,0.99,0.98,0.98,0.99,0.98,0.99,0.99,0.98,0.98]\n",
            "Precision : [0.99,0.99,1.0,0.97,0.99,0.99,0.98,0.99,0.98,0.98]\n",
            "Recall : [0.99,0.99,0.97,1.0,0.99,0.98,0.99,0.99,0.98,0.99]\n",
            "Accuracy : [0.99,0.99,0.97,1.0,0.99,0.98,0.99,0.99,0.98,0.99]\n",
            "\n"
          ]
        }
      ]
    },
    {
      "cell_type": "markdown",
      "metadata": {
        "id": "VtBTIZ1p9Y12"
      },
      "source": [
        "# Model 5 - Model 4 with Dropout"
      ]
    },
    {
      "cell_type": "code",
      "metadata": {
        "id": "50Qf2txv9bif"
      },
      "source": [
        "lr = 1e-3\n",
        "loss = torch.nn.CrossEntropyLoss()\n",
        "model5 = nn.Sequential(\n",
        "    plot_layer,\n",
        "    nn.Conv2d(in_channels=1, out_channels=32, kernel_size=(5,5), stride=(1,1), padding='same'),\n",
        "    plot_layer,\n",
        "    nn.ReLU(),\n",
        "    plot_layer,\n",
        "    nn.MaxPool2d(kernel_size=(2,2), stride=(2,2)),\n",
        "\n",
        "    nn.Conv2d(in_channels=32, out_channels=64, kernel_size=(5,5), stride=(1,1), padding='same'),\n",
        "    plot_layer,\n",
        "    nn.ReLU(),\n",
        "    plot_layer,\n",
        "    nn.MaxPool2d(kernel_size=(2,2), stride=(2,2)),\n",
        "\n",
        "    nn.Flatten(),\n",
        "    nn.Dropout(p=0.5),\n",
        "\n",
        "    nn.Linear(in_features=64*7*7, out_features=1024),\n",
        "    nn.ReLU(),    \n",
        "    nn.Linear(in_features=1024, out_features=10)\n",
        ")\n",
        "\n",
        "model5.apply(init_conv2d_weights)\n",
        "optimizer = torch.optim.Adam(model5.parameters(), lr=lr)\n"
      ],
      "execution_count": null,
      "outputs": []
    },
    {
      "cell_type": "code",
      "metadata": {
        "id": "YKMRYa3Z9ndv",
        "colab": {
          "base_uri": "https://localhost:8080/"
        },
        "outputId": "c7c2519a-9946-4a91-b26f-85486affbc02"
      },
      "source": [
        "train(model5,loss,optimizer)"
      ],
      "execution_count": null,
      "outputs": [
        {
          "output_type": "stream",
          "name": "stdout",
          "text": [
            "Batch Number : 0, Loss : 2.310124397277832\n",
            "Batch Number : 1000, Loss : 0.2537778913974762\n",
            "Batch Number : 2000, Loss : 0.2574329674243927\n",
            "Batch Number : 3000, Loss : 0.05577714741230011\n",
            "Batch Number : 4000, Loss : 0.09620154649019241\n",
            "Batch Number : 5000, Loss : 0.0058939289301633835\n",
            "Batch Number : 6000, Loss : 0.03544905409216881\n",
            "Batch Number : 7000, Loss : 0.008007063530385494\n",
            "Batch Number : 8000, Loss : 0.0020559041295200586\n",
            "Batch Number : 9000, Loss : 0.024519462138414383\n",
            "Batch Number : 10000, Loss : 0.04223504662513733\n",
            "Batch Number : 11000, Loss : 0.022084617987275124\n",
            "Batch Number : 12000, Loss : 0.002272689715027809\n",
            "Batch Number : 13000, Loss : 0.002974939066916704\n",
            "Total Train Time : 145.77 s , Network Total Weights : 3274634\n"
          ]
        }
      ]
    },
    {
      "cell_type": "code",
      "metadata": {
        "id": "yxE4c3xO-lS3",
        "colab": {
          "base_uri": "https://localhost:8080/"
        },
        "outputId": "2cd9ada5-8f30-49ac-c4ca-92941015a6e7"
      },
      "source": [
        "for dataset_type,dataloader in datasets_with_types:\n",
        "  y_pred, y_true = predict(model5,dataloader)\n",
        "  print_metrics(dataset_type,y_pred.cpu(), y_true.cpu())"
      ],
      "execution_count": null,
      "outputs": [
        {
          "output_type": "stream",
          "name": "stdout",
          "text": [
            "Dataset Type : Train Dataset\n",
            "FScore : [1.0,1.0,1.0,0.99,1.0,0.99,1.0,1.0,0.99,0.99]\n",
            "Precision : [1.0,1.0,1.0,1.0,0.99,0.99,0.99,0.99,1.0,0.99]\n",
            "Recall : [1.0,1.0,1.0,0.99,1.0,1.0,1.0,1.0,0.99,0.99]\n",
            "Accuracy : [1.0,1.0,1.0,0.99,1.0,1.0,1.0,1.0,0.99,0.99]\n",
            "\n",
            "Dataset Type : Validation Dataset\n",
            "FScore : [0.99,0.99,0.99,0.99,0.98,0.98,0.99,0.99,0.98,0.98]\n",
            "Precision : [0.99,0.99,0.99,1.0,0.98,0.98,0.99,0.98,0.97,0.98]\n",
            "Recall : [0.99,0.99,0.99,0.98,0.98,0.98,1.0,0.99,0.98,0.97]\n",
            "Accuracy : [0.99,0.99,0.99,0.98,0.98,0.98,1.0,0.99,0.98,0.97]\n",
            "\n",
            "Dataset Type : Test Dataset\n",
            "FScore : [0.99,1.0,0.99,0.99,0.99,0.98,0.99,0.99,0.99,0.98]\n",
            "Precision : [0.99,0.99,0.99,1.0,0.99,0.98,0.99,0.99,0.99,0.98]\n",
            "Recall : [1.0,1.0,0.99,0.99,0.99,0.99,0.99,0.99,0.98,0.98]\n",
            "Accuracy : [1.0,1.0,0.99,0.99,0.99,0.99,0.99,0.99,0.98,0.98]\n",
            "\n"
          ]
        }
      ]
    },
    {
      "cell_type": "markdown",
      "metadata": {
        "id": "gV8w8XaAO1QW"
      },
      "source": [
        "# Compare Batch Size for Model 5 "
      ]
    },
    {
      "cell_type": "code",
      "metadata": {
        "id": "t2fw89jTAj7K"
      },
      "source": [
        "def train_compare(model,loss,optimizer,train_set, val_set,batch_size):\n",
        "  model.to(device)\n",
        "  model.train()\n",
        "  traindata_loader = torch.utils.data.DataLoader(train_set,batch_size=batch_size,shuffle=True)\n",
        "  validationdata_loader = torch.utils.data.DataLoader(val_set,batch_size=batch_size,shuffle=True)\n",
        "\n",
        "  total_epochs = 0\n",
        "  total_batches = 0\n",
        "  acc = 0\n",
        "  start = time.time()\n",
        "  while True:\n",
        "    for batch_idx, (images, labels) in enumerate(traindata_loader):\n",
        "      images, labels = images.to(device), labels.to(device)\n",
        "      cross_entropy = loss(model(images), labels)\n",
        "      optimizer.zero_grad()\n",
        "      cross_entropy.backward()\n",
        "      optimizer.step()\n",
        "      if not (total_batches % 1000):\n",
        "        print(f\"Batch Number : {total_batches}, Loss : {cross_entropy.item()}\")\n",
        "      total_batches += 1\n",
        "\n",
        "    y_pred,y_true = predict(model,validationdata_loader)\n",
        "    acc = accuracy_calculate(y_pred,y_true)\n",
        "    if not total_epochs % 3 :\n",
        "      print(f\"Epoch Number : {total_epochs}, Loss : {cross_entropy.item()}, Validation Accuracy : {acc}\")\n",
        "      \n",
        "    if acc >= 0.99:\n",
        "      end = time.time()\n",
        "      print(f\"Total Train Time : {round(end-start,2)} s , Total epochs: {total_epochs}\")\n",
        "      return \n",
        "    model.train()\n",
        "    total_epochs+=1\n"
      ],
      "execution_count": null,
      "outputs": []
    },
    {
      "cell_type": "code",
      "metadata": {
        "colab": {
          "base_uri": "https://localhost:8080/"
        },
        "id": "ZQ_mn8NVCO_8",
        "outputId": "3db65031-76e5-416c-c445-0b680e08b6c5"
      },
      "source": [
        "loss = torch.nn.CrossEntropyLoss()\n",
        "model5.apply(weight_reset)\n",
        "model5.apply(init_conv2d_weights)\n",
        "optimizer = torch.optim.Adam(model5.parameters(), lr=lr)\n",
        "train_compare(model5,loss,optimizer,train_set, val_set,50)"
      ],
      "execution_count": null,
      "outputs": [
        {
          "output_type": "stream",
          "name": "stdout",
          "text": [
            "Batch Number : 0, Loss : 2.309506416320801\n",
            "Batch Number : 1000, Loss : 0.4521767497062683\n",
            "Epoch Number : 0, Loss : 0.16988033056259155, Validation Accuracy : 0.9351666569709778\n",
            "Batch Number : 2000, Loss : 0.07275057584047318\n",
            "Batch Number : 3000, Loss : 0.18077000975608826\n",
            "Batch Number : 4000, Loss : 0.18805862963199615\n",
            "Epoch Number : 3, Loss : 0.048982106149196625, Validation Accuracy : 0.9743333458900452\n",
            "Batch Number : 5000, Loss : 0.06445219367742538\n",
            "Batch Number : 6000, Loss : 0.025923505425453186\n",
            "Batch Number : 7000, Loss : 0.022461825981736183\n",
            "Epoch Number : 6, Loss : 0.08789892494678497, Validation Accuracy : 0.9783332943916321\n",
            "Batch Number : 8000, Loss : 0.008389933034777641\n",
            "Batch Number : 9000, Loss : 0.013502515852451324\n",
            "Batch Number : 10000, Loss : 0.020590072497725487\n",
            "Epoch Number : 9, Loss : 0.042828354984521866, Validation Accuracy : 0.9836666584014893\n",
            "Batch Number : 11000, Loss : 0.04754165560007095\n",
            "Batch Number : 12000, Loss : 0.0040259282104671\n",
            "Batch Number : 13000, Loss : 0.011670155450701714\n",
            "Batch Number : 14000, Loss : 0.0006855007377453148\n",
            "Epoch Number : 12, Loss : 0.013468201272189617, Validation Accuracy : 0.984666645526886\n",
            "Batch Number : 15000, Loss : 0.0025002616457641125\n",
            "Batch Number : 16000, Loss : 0.002849487354978919\n",
            "Batch Number : 17000, Loss : 0.0039123897440731525\n",
            "Epoch Number : 15, Loss : 0.041477713733911514, Validation Accuracy : 0.9856666326522827\n",
            "Batch Number : 18000, Loss : 0.0065995617769658566\n",
            "Batch Number : 19000, Loss : 0.05001229792833328\n",
            "Batch Number : 20000, Loss : 0.03243158012628555\n",
            "Epoch Number : 18, Loss : 0.02652915008366108, Validation Accuracy : 0.9864999651908875\n",
            "Batch Number : 21000, Loss : 0.02551218681037426\n",
            "Batch Number : 22000, Loss : 0.057718973606824875\n",
            "Batch Number : 23000, Loss : 0.04941331967711449\n",
            "Epoch Number : 21, Loss : 0.001427811337634921, Validation Accuracy : 0.9886666536331177\n",
            "Batch Number : 24000, Loss : 0.00032618537079542875\n",
            "Batch Number : 25000, Loss : 0.0010603308910503983\n",
            "Batch Number : 26000, Loss : 0.0003380605485290289\n",
            "Epoch Number : 24, Loss : 0.0018746145069599152, Validation Accuracy : 0.9863333106040955\n",
            "Batch Number : 27000, Loss : 0.003266484709456563\n",
            "Batch Number : 28000, Loss : 0.0008592291851527989\n",
            "Batch Number : 29000, Loss : 0.022154850885272026\n",
            "Batch Number : 30000, Loss : 0.04568381607532501\n",
            "Epoch Number : 27, Loss : 0.00012565044744405895, Validation Accuracy : 0.9871666431427002\n",
            "Batch Number : 31000, Loss : 0.006573292426764965\n",
            "Batch Number : 32000, Loss : 0.01888336054980755\n",
            "Batch Number : 33000, Loss : 0.002492766361683607\n",
            "Epoch Number : 30, Loss : 0.029085464775562286, Validation Accuracy : 0.9889999628067017\n",
            "Batch Number : 34000, Loss : 0.0016604609554633498\n",
            "Batch Number : 35000, Loss : 0.0006678320933133364\n",
            "Batch Number : 36000, Loss : 0.0009700937080197036\n",
            "Epoch Number : 33, Loss : 0.0008615656406618655, Validation Accuracy : 0.9873332977294922\n",
            "Batch Number : 37000, Loss : 0.0020856710616499186\n",
            "Batch Number : 38000, Loss : 0.0011001050006598234\n",
            "Batch Number : 39000, Loss : 0.0009640576899982989\n",
            "Epoch Number : 36, Loss : 0.0013691866770386696, Validation Accuracy : 0.9896666407585144\n",
            "Batch Number : 40000, Loss : 0.005218416452407837\n",
            "Batch Number : 41000, Loss : 0.00020110273908358067\n",
            "Batch Number : 42000, Loss : 0.00014105337322689593\n",
            "Batch Number : 43000, Loss : 0.00010319077409803867\n",
            "Epoch Number : 39, Loss : 0.05602537468075752, Validation Accuracy : 0.9868333339691162\n",
            "Batch Number : 44000, Loss : 3.0752489692531526e-05\n",
            "Batch Number : 45000, Loss : 0.11224690079689026\n",
            "Batch Number : 46000, Loss : 0.00018836236267816275\n",
            "Epoch Number : 42, Loss : 0.0002741250500548631, Validation Accuracy : 0.9881666302680969\n",
            "Batch Number : 47000, Loss : 0.00019992131274193525\n",
            "Batch Number : 48000, Loss : 0.006074146833270788\n",
            "Batch Number : 49000, Loss : 9.642904478823766e-05\n",
            "Epoch Number : 45, Loss : 0.003909255377948284, Validation Accuracy : 0.9893333315849304\n",
            "Batch Number : 50000, Loss : 0.0002895534853450954\n",
            "Batch Number : 51000, Loss : 0.0008549732738174498\n",
            "Batch Number : 52000, Loss : 0.00012978319136891514\n",
            "Epoch Number : 48, Loss : 0.0013082430232316256, Validation Accuracy : 0.9904999732971191\n",
            "Total Train Time : 649.98 s , Total epochs: 48\n"
          ]
        }
      ]
    },
    {
      "cell_type": "code",
      "metadata": {
        "id": "s2LkEBcXIn4C",
        "colab": {
          "base_uri": "https://localhost:8080/"
        },
        "outputId": "1ac54651-c544-4020-992b-8aec5dc84ec8"
      },
      "source": [
        "loss = torch.nn.CrossEntropyLoss()\n",
        "model5.apply(weight_reset)\n",
        "model5.apply(init_conv2d_weights)\n",
        "optimizer = torch.optim.Adam(model5.parameters(), lr=lr)\n",
        "train_compare(model5,loss,optimizer,train_set, val_set,100)"
      ],
      "execution_count": null,
      "outputs": [
        {
          "output_type": "stream",
          "name": "stdout",
          "text": [
            "Batch Number : 0, Loss : 2.3100438117980957\n",
            "Epoch Number : 0, Loss : 0.3581419885158539, Validation Accuracy : 0.8978333473205566\n",
            "Batch Number : 1000, Loss : 0.23664642870426178\n",
            "Batch Number : 2000, Loss : 0.10486261546611786\n",
            "Epoch Number : 3, Loss : 0.06448645889759064, Validation Accuracy : 0.9713333249092102\n",
            "Batch Number : 3000, Loss : 0.05569303035736084\n",
            "Epoch Number : 6, Loss : 0.14642764627933502, Validation Accuracy : 0.9810000061988831\n",
            "Batch Number : 4000, Loss : 0.03412346914410591\n",
            "Batch Number : 5000, Loss : 0.1053718626499176\n",
            "Epoch Number : 9, Loss : 0.018924398347735405, Validation Accuracy : 0.9848333597183228\n",
            "Batch Number : 6000, Loss : 0.12247814983129501\n",
            "Batch Number : 7000, Loss : 0.010565290227532387\n",
            "Epoch Number : 12, Loss : 0.03415009379386902, Validation Accuracy : 0.9854999780654907\n",
            "Batch Number : 8000, Loss : 0.01834968291223049\n",
            "Epoch Number : 15, Loss : 0.01878383941948414, Validation Accuracy : 0.9858333468437195\n",
            "Batch Number : 9000, Loss : 0.05159076675772667\n",
            "Batch Number : 10000, Loss : 0.023173145949840546\n",
            "Epoch Number : 18, Loss : 0.029577231034636497, Validation Accuracy : 0.9854999780654907\n",
            "Batch Number : 11000, Loss : 0.026841890066862106\n",
            "Epoch Number : 21, Loss : 0.02796918898820877, Validation Accuracy : 0.9865000247955322\n",
            "Batch Number : 12000, Loss : 0.052717410027980804\n",
            "Batch Number : 13000, Loss : 0.001548601547256112\n",
            "Epoch Number : 24, Loss : 0.022122398018836975, Validation Accuracy : 0.9886666536331177\n",
            "Batch Number : 14000, Loss : 0.02545473538339138\n",
            "Batch Number : 15000, Loss : 0.043648481369018555\n",
            "Epoch Number : 27, Loss : 0.004036543890833855, Validation Accuracy : 0.9903333187103271\n",
            "Total Train Time : 4296.97 s , Total epochs: 27\n"
          ]
        }
      ]
    },
    {
      "cell_type": "markdown",
      "metadata": {
        "id": "Iyysc3pNGLOj"
      },
      "source": [
        "# Final Results - Visualization - Best Architecture"
      ]
    },
    {
      "cell_type": "markdown",
      "source": [
        "## Find Best Model with the best Balanced Accuracy"
      ],
      "metadata": {
        "id": "LXyZF2RkRNyS"
      }
    },
    {
      "cell_type": "code",
      "metadata": {
        "id": "Lo-C-trLZ8UZ",
        "colab": {
          "base_uri": "https://localhost:8080/"
        },
        "outputId": "74584825-21e5-4b7d-8635-d515a1ad2da3"
      },
      "source": [
        "models = [model5,model4,model3,LR_Model_No_HL,LR_Model_TWO_FC]\n",
        "models_name = ['Model 5','Model 4', 'Model 3', 'Model 2', 'Model 1']\n",
        "best_model = None\n",
        "best_bc = 0\n",
        "best_model_name = None\n",
        "for model,model_name in zip(models,models_name):\n",
        "  y_pred, y_true = predict(model,val_loader)\n",
        "  bc = balanced_accuracy_calculate(y_true.cpu(), y_pred.cpu())\n",
        "  print(f\"Model {model_name} : {bc}\")\n",
        "  if bc > best_bc:\n",
        "    best_model = model\n",
        "    best_bc = bc\n",
        "    best_model_name = model_name\n",
        "\n",
        "print(f\"Best Model {best_model_name} : {best_bc}\")"
      ],
      "execution_count": null,
      "outputs": [
        {
          "output_type": "stream",
          "name": "stdout",
          "text": [
            "Model Model 5 : 0.9859828200224754\n",
            "Model Model 4 : 0.9844140687521111\n",
            "Model Model 3 : 0.9725012246587431\n",
            "Model Model 2 : 0.8955955960309414\n",
            "Model Model 1 : 0.9681822280561121\n",
            "Best Model Model 5 : 0.9859828200224754\n"
          ]
        }
      ]
    },
    {
      "cell_type": "code",
      "metadata": {
        "colab": {
          "base_uri": "https://localhost:8080/",
          "height": 353
        },
        "id": "54BGrI1XOE0t",
        "outputId": "5d97be8a-d101-4d2e-8e78-e8ceec4a09bc"
      },
      "source": [
        "fig, ax = plt.subplots(1,5,figsize=(30,35))\n",
        "for index in range(5):\n",
        "\n",
        "  intersection_matrix = best_model[1].weight.detach()[index][0]\n",
        "  ax[index].set_title(f'Weight {index+1}')\n",
        "  ax[index].matshow(intersection_matrix.cpu(), cmap='jet')\n",
        "\n",
        "  for i in range(5):\n",
        "      for j in range(5):\n",
        "          c = intersection_matrix[j,i]\n",
        "          ax[index].text(i, j, round(float(c),5), va='center', ha='center')\n"
      ],
      "execution_count": null,
      "outputs": [
        {
          "output_type": "display_data",
          "data": {
            "image/png": "[encoded data removed]",
            "text/plain": [
              "<Figure size 2160x2520 with 5 Axes>"
            ]
          },
          "metadata": {
            "needs_background": "light"
          }
        }
      ]
    },
    {
      "cell_type": "markdown",
      "source": [
        "## Visualization of the Convolution\n",
        "Visualization of image process in two convolution layers of the best architecture, before and after the ReLU."
      ],
      "metadata": {
        "id": "8X6-KWiiRdbg"
      }
    },
    {
      "cell_type": "code",
      "metadata": {
        "colab": {
          "base_uri": "https://localhost:8080/",
          "height": 227
        },
        "id": "RETAj028RFdW",
        "outputId": "634f0cbb-b320-4f98-b60b-ecd0a76785bd"
      },
      "source": [
        "best_model.cpu()\n",
        "best_model.eval()\n",
        "plot_layer.visualization = True\n",
        "plt.figure(figsize=(16,16))\n",
        "x, _ = train_dataset[7777] \n",
        "best_model(x[[np.newaxis,...]])\n",
        "  "
      ],
      "execution_count": null,
      "outputs": [
        {
          "output_type": "execute_result",
          "data": {
            "text/plain": [
              "tensor([[ -5.24,  -4.58,  -4.76,  -6.49,  -6.91,  -2.61,  -7.17, -11.65,  10.99,\n",
              "          -3.90]], grad_fn=<AddmmBackward0>)"
            ]
          },
          "metadata": {},
          "execution_count": 39
        },
        {
          "output_type": "display_data",
          "data": {
            "image/png": "[encoded data removed]",
            "text/plain": [
              "<Figure size 1152x1152 with 5 Axes>"
            ]
          },
          "metadata": {
            "needs_background": "light"
          }
        }
      ]
    },
    {
      "cell_type": "code",
      "metadata": {
        "id": "HnAo6DiHZ8NG"
      },
      "source": [
        ""
      ],
      "execution_count": null,
      "outputs": []
    }
  ]
}